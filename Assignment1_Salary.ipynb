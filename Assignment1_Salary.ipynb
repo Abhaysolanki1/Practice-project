{
 "cells": [
  {
   "cell_type": "code",
   "execution_count": 13,
   "id": "c7fef110",
   "metadata": {},
   "outputs": [],
   "source": [
    "#loading the Libraies\n",
    "import pandas as pd\n",
    "import numpy as np\n",
    "import matplotlib.pyplot as plt\n",
    "import seaborn as sns\n",
    "import warnings\n",
    "warnings.filterwarnings('ignore')"
   ]
  },
  {
   "cell_type": "code",
   "execution_count": 2,
   "id": "b629671c",
   "metadata": {},
   "outputs": [
    {
     "data": {
      "text/html": [
       "<div>\n",
       "<style scoped>\n",
       "    .dataframe tbody tr th:only-of-type {\n",
       "        vertical-align: middle;\n",
       "    }\n",
       "\n",
       "    .dataframe tbody tr th {\n",
       "        vertical-align: top;\n",
       "    }\n",
       "\n",
       "    .dataframe thead th {\n",
       "        text-align: right;\n",
       "    }\n",
       "</style>\n",
       "<table border=\"1\" class=\"dataframe\">\n",
       "  <thead>\n",
       "    <tr style=\"text-align: right;\">\n",
       "      <th></th>\n",
       "      <th>rank</th>\n",
       "      <th>discipline</th>\n",
       "      <th>yrs.since.phd</th>\n",
       "      <th>yrs.service</th>\n",
       "      <th>sex</th>\n",
       "      <th>salary</th>\n",
       "    </tr>\n",
       "  </thead>\n",
       "  <tbody>\n",
       "    <tr>\n",
       "      <th>0</th>\n",
       "      <td>Prof</td>\n",
       "      <td>B</td>\n",
       "      <td>19</td>\n",
       "      <td>18</td>\n",
       "      <td>Male</td>\n",
       "      <td>139750</td>\n",
       "    </tr>\n",
       "    <tr>\n",
       "      <th>1</th>\n",
       "      <td>Prof</td>\n",
       "      <td>B</td>\n",
       "      <td>20</td>\n",
       "      <td>16</td>\n",
       "      <td>Male</td>\n",
       "      <td>173200</td>\n",
       "    </tr>\n",
       "    <tr>\n",
       "      <th>2</th>\n",
       "      <td>AsstProf</td>\n",
       "      <td>B</td>\n",
       "      <td>4</td>\n",
       "      <td>3</td>\n",
       "      <td>Male</td>\n",
       "      <td>79750</td>\n",
       "    </tr>\n",
       "    <tr>\n",
       "      <th>3</th>\n",
       "      <td>Prof</td>\n",
       "      <td>B</td>\n",
       "      <td>45</td>\n",
       "      <td>39</td>\n",
       "      <td>Male</td>\n",
       "      <td>115000</td>\n",
       "    </tr>\n",
       "    <tr>\n",
       "      <th>4</th>\n",
       "      <td>Prof</td>\n",
       "      <td>B</td>\n",
       "      <td>40</td>\n",
       "      <td>41</td>\n",
       "      <td>Male</td>\n",
       "      <td>141500</td>\n",
       "    </tr>\n",
       "  </tbody>\n",
       "</table>\n",
       "</div>"
      ],
      "text/plain": [
       "       rank discipline  yrs.since.phd  yrs.service   sex  salary\n",
       "0      Prof          B             19           18  Male  139750\n",
       "1      Prof          B             20           16  Male  173200\n",
       "2  AsstProf          B              4            3  Male   79750\n",
       "3      Prof          B             45           39  Male  115000\n",
       "4      Prof          B             40           41  Male  141500"
      ]
     },
     "execution_count": 2,
     "metadata": {},
     "output_type": "execute_result"
    }
   ],
   "source": [
    "# Loading the Data \n",
    "salary = pd.read_csv('Salaries.csv')\n",
    "salary.head()"
   ]
  },
  {
   "cell_type": "code",
   "execution_count": 3,
   "id": "bf3a3b0d",
   "metadata": {},
   "outputs": [
    {
     "data": {
      "text/plain": [
       "Index(['rank', 'discipline', 'yrs.since.phd', 'yrs.service', 'sex', 'salary'], dtype='object')"
      ]
     },
     "execution_count": 3,
     "metadata": {},
     "output_type": "execute_result"
    }
   ],
   "source": [
    "salary.columns"
   ]
  },
  {
   "cell_type": "markdown",
   "id": "79423dd3",
   "metadata": {},
   "source": [
    "# About the column"
   ]
  },
  {
   "cell_type": "markdown",
   "id": "47e5d525",
   "metadata": {},
   "source": [
    "1 Rank:- It defines the person's designation and has 3 category.\n",
    "\n",
    "2 Descipline:- it is categorized into two entity.\n",
    "\n",
    "3 yrs.since.phd :- this column depicts years before the PHD completed.\n",
    "\n",
    "4 yrs.service:- it defines the number of years a person is working.\n",
    "\n",
    "5 sex:- it shows the gender of a person.\n",
    "\n",
    "6 salary:- this column shows the amount is been paid to the person"
   ]
  },
  {
   "cell_type": "code",
   "execution_count": 4,
   "id": "0ea88737",
   "metadata": {},
   "outputs": [
    {
     "data": {
      "text/plain": [
       "rank             0\n",
       "discipline       0\n",
       "yrs.since.phd    0\n",
       "yrs.service      0\n",
       "sex              0\n",
       "salary           0\n",
       "dtype: int64"
      ]
     },
     "execution_count": 4,
     "metadata": {},
     "output_type": "execute_result"
    }
   ],
   "source": [
    "#finding out the null values in dataframe\n",
    "salary.isnull().sum()"
   ]
  },
  {
   "cell_type": "markdown",
   "id": "67a2f9f6",
   "metadata": {},
   "source": [
    "   _ As per the above code there is no null value in any column"
   ]
  },
  {
   "cell_type": "code",
   "execution_count": 5,
   "id": "8c5e53af",
   "metadata": {},
   "outputs": [
    {
     "data": {
      "text/plain": [
       "(397, 6)"
      ]
     },
     "execution_count": 5,
     "metadata": {},
     "output_type": "execute_result"
    }
   ],
   "source": [
    "salary.shape"
   ]
  },
  {
   "cell_type": "code",
   "execution_count": 6,
   "id": "f9f9d6eb",
   "metadata": {},
   "outputs": [
    {
     "data": {
      "text/plain": [
       "array(['Prof', 'AsstProf', 'AssocProf'], dtype=object)"
      ]
     },
     "execution_count": 6,
     "metadata": {},
     "output_type": "execute_result"
    }
   ],
   "source": [
    "salary['rank'].unique()\n",
    "\n"
   ]
  },
  {
   "cell_type": "markdown",
   "id": "ac32e2a1",
   "metadata": {},
   "source": [
    "As per the above code we find out there are 3 fields of ranks but they string so we will use lable encoder to  convert these value into numeric form."
   ]
  },
  {
   "cell_type": "code",
   "execution_count": 7,
   "id": "68580610",
   "metadata": {},
   "outputs": [
    {
     "data": {
      "text/html": [
       "<div>\n",
       "<style scoped>\n",
       "    .dataframe tbody tr th:only-of-type {\n",
       "        vertical-align: middle;\n",
       "    }\n",
       "\n",
       "    .dataframe tbody tr th {\n",
       "        vertical-align: top;\n",
       "    }\n",
       "\n",
       "    .dataframe thead th {\n",
       "        text-align: right;\n",
       "    }\n",
       "</style>\n",
       "<table border=\"1\" class=\"dataframe\">\n",
       "  <thead>\n",
       "    <tr style=\"text-align: right;\">\n",
       "      <th></th>\n",
       "      <th>rank</th>\n",
       "      <th>discipline</th>\n",
       "      <th>yrs.since.phd</th>\n",
       "      <th>yrs.service</th>\n",
       "      <th>sex</th>\n",
       "      <th>salary</th>\n",
       "    </tr>\n",
       "  </thead>\n",
       "  <tbody>\n",
       "    <tr>\n",
       "      <th>0</th>\n",
       "      <td>2</td>\n",
       "      <td>B</td>\n",
       "      <td>19</td>\n",
       "      <td>18</td>\n",
       "      <td>Male</td>\n",
       "      <td>139750</td>\n",
       "    </tr>\n",
       "    <tr>\n",
       "      <th>1</th>\n",
       "      <td>2</td>\n",
       "      <td>B</td>\n",
       "      <td>20</td>\n",
       "      <td>16</td>\n",
       "      <td>Male</td>\n",
       "      <td>173200</td>\n",
       "    </tr>\n",
       "    <tr>\n",
       "      <th>2</th>\n",
       "      <td>1</td>\n",
       "      <td>B</td>\n",
       "      <td>4</td>\n",
       "      <td>3</td>\n",
       "      <td>Male</td>\n",
       "      <td>79750</td>\n",
       "    </tr>\n",
       "    <tr>\n",
       "      <th>3</th>\n",
       "      <td>2</td>\n",
       "      <td>B</td>\n",
       "      <td>45</td>\n",
       "      <td>39</td>\n",
       "      <td>Male</td>\n",
       "      <td>115000</td>\n",
       "    </tr>\n",
       "    <tr>\n",
       "      <th>4</th>\n",
       "      <td>2</td>\n",
       "      <td>B</td>\n",
       "      <td>40</td>\n",
       "      <td>41</td>\n",
       "      <td>Male</td>\n",
       "      <td>141500</td>\n",
       "    </tr>\n",
       "    <tr>\n",
       "      <th>5</th>\n",
       "      <td>0</td>\n",
       "      <td>B</td>\n",
       "      <td>6</td>\n",
       "      <td>6</td>\n",
       "      <td>Male</td>\n",
       "      <td>97000</td>\n",
       "    </tr>\n",
       "    <tr>\n",
       "      <th>6</th>\n",
       "      <td>2</td>\n",
       "      <td>B</td>\n",
       "      <td>30</td>\n",
       "      <td>23</td>\n",
       "      <td>Male</td>\n",
       "      <td>175000</td>\n",
       "    </tr>\n",
       "    <tr>\n",
       "      <th>7</th>\n",
       "      <td>2</td>\n",
       "      <td>B</td>\n",
       "      <td>45</td>\n",
       "      <td>45</td>\n",
       "      <td>Male</td>\n",
       "      <td>147765</td>\n",
       "    </tr>\n",
       "    <tr>\n",
       "      <th>8</th>\n",
       "      <td>2</td>\n",
       "      <td>B</td>\n",
       "      <td>21</td>\n",
       "      <td>20</td>\n",
       "      <td>Male</td>\n",
       "      <td>119250</td>\n",
       "    </tr>\n",
       "    <tr>\n",
       "      <th>9</th>\n",
       "      <td>2</td>\n",
       "      <td>B</td>\n",
       "      <td>18</td>\n",
       "      <td>18</td>\n",
       "      <td>Female</td>\n",
       "      <td>129000</td>\n",
       "    </tr>\n",
       "  </tbody>\n",
       "</table>\n",
       "</div>"
      ],
      "text/plain": [
       "   rank discipline  yrs.since.phd  yrs.service     sex  salary\n",
       "0     2          B             19           18    Male  139750\n",
       "1     2          B             20           16    Male  173200\n",
       "2     1          B              4            3    Male   79750\n",
       "3     2          B             45           39    Male  115000\n",
       "4     2          B             40           41    Male  141500\n",
       "5     0          B              6            6    Male   97000\n",
       "6     2          B             30           23    Male  175000\n",
       "7     2          B             45           45    Male  147765\n",
       "8     2          B             21           20    Male  119250\n",
       "9     2          B             18           18  Female  129000"
      ]
     },
     "execution_count": 7,
     "metadata": {},
     "output_type": "execute_result"
    }
   ],
   "source": [
    "from sklearn.preprocessing import LabelEncoder\n",
    "le =LabelEncoder()\n",
    "salary['rank']= le.fit_transform(salary['rank'])\n",
    "salary.head(10)"
   ]
  },
  {
   "cell_type": "markdown",
   "id": "67162258",
   "metadata": {},
   "source": [
    "After using the label Encoder the ranks are been coded in followings [2='Prof', 1='AsstProf', 0='AssocProf']"
   ]
  },
  {
   "cell_type": "markdown",
   "id": "67c82325",
   "metadata": {},
   "source": [
    "# EDA"
   ]
  },
  {
   "cell_type": "code",
   "execution_count": 10,
   "id": "f80b4309",
   "metadata": {},
   "outputs": [
    {
     "data": {
      "text/plain": [
       "<AxesSubplot:xlabel='salary', ylabel='yrs.service'>"
      ]
     },
     "execution_count": 10,
     "metadata": {},
     "output_type": "execute_result"
    },
    {
     "data": {
      "image/png": "[encoded data removed]",
      "text/plain": [
       "<Figure size 576x576 with 1 Axes>"
      ]
     },
     "metadata": {
      "needs_background": "light"
     },
     "output_type": "display_data"
    }
   ],
   "source": [
    "plt.figure(figsize=(8,8))\n",
    "sns.scatterplot(x='salary', y='yrs.service', data=salary)"
   ]
  },
  {
   "cell_type": "code",
   "execution_count": 21,
   "id": "e9884179",
   "metadata": {},
   "outputs": [
    {
     "data": {
      "text/plain": [
       "<AxesSubplot:xlabel='sex', ylabel='salary'>"
      ]
     },
     "execution_count": 21,
     "metadata": {},
     "output_type": "execute_result"
    },
    {
     "data": {
      "image/png": "[encoded data removed]",
      "text/plain": [
       "<Figure size 432x288 with 1 Axes>"
      ]
     },
     "metadata": {
      "needs_background": "light"
     },
     "output_type": "display_data"
    }
   ],
   "source": [
    "sns.boxplot(x='sex' , y='salary',  data=salary)"
   ]
  },
  {
   "cell_type": "code",
   "execution_count": 28,
   "id": "19535788",
   "metadata": {},
   "outputs": [
    {
     "data": {
      "text/plain": [
       "<AxesSubplot:xlabel='discipline', ylabel='salary'>"
      ]
     },
     "execution_count": 28,
     "metadata": {},
     "output_type": "execute_result"
    },
    {
     "data": {
      "image/png": "[encoded data removed]",
      "text/plain": [
       "<Figure size 432x288 with 1 Axes>"
      ]
     },
     "metadata": {
      "needs_background": "light"
     },
     "output_type": "display_data"
    }
   ],
   "source": [
    "sns.boxplot(y='salary', x='discipline', data=salary)"
   ]
  },
  {
   "cell_type": "code",
   "execution_count": 31,
   "id": "7370aff8",
   "metadata": {},
   "outputs": [
    {
     "data": {
      "text/plain": [
       "<AxesSubplot:xlabel='discipline', ylabel='count'>"
      ]
     },
     "execution_count": 31,
     "metadata": {},
     "output_type": "execute_result"
    },
    {
     "data": {
      "image/png": "[encoded data removed]",
      "text/plain": [
       "<Figure size 432x288 with 1 Axes>"
      ]
     },
     "metadata": {
      "needs_background": "light"
     },
     "output_type": "display_data"
    }
   ],
   "source": [
    "sns.countplot(x='discipline', data=salary)"
   ]
  },
  {
   "cell_type": "code",
   "execution_count": 15,
   "id": "99f10428",
   "metadata": {},
   "outputs": [
    {
     "data": {
      "text/plain": [
       "<seaborn.axisgrid.PairGrid at 0x7f8a6ce7fb80>"
      ]
     },
     "execution_count": 15,
     "metadata": {},
     "output_type": "execute_result"
    },
    {
     "data": {
      "image/png": "[encoded data removed]",
      "text/plain": [
       "<Figure size 720x720 with 20 Axes>"
      ]
     },
     "metadata": {
      "needs_background": "light"
     },
     "output_type": "display_data"
    }
   ],
   "source": [
    "sns.pairplot(data=salary)"
   ]
  },
  {
   "cell_type": "markdown",
   "id": "2f28856c",
   "metadata": {},
   "source": [
    "As per the observation:\n",
    "\n",
    "~ Most number of high salaried people are Profesors. \n",
    "\n",
    "~ The  majority of salary range is between 100000-150000\n",
    "\n",
    "~ Rank plays important role for the salary. As the rank increses,salary increses.\n"
   ]
  },
  {
   "cell_type": "code",
   "execution_count": 23,
   "id": "784e13a3",
   "metadata": {},
   "outputs": [
    {
     "data": {
      "text/html": [
       "<div>\n",
       "<style scoped>\n",
       "    .dataframe tbody tr th:only-of-type {\n",
       "        vertical-align: middle;\n",
       "    }\n",
       "\n",
       "    .dataframe tbody tr th {\n",
       "        vertical-align: top;\n",
       "    }\n",
       "\n",
       "    .dataframe thead th {\n",
       "        text-align: right;\n",
       "    }\n",
       "</style>\n",
       "<table border=\"1\" class=\"dataframe\">\n",
       "  <thead>\n",
       "    <tr style=\"text-align: right;\">\n",
       "      <th></th>\n",
       "      <th>rank</th>\n",
       "      <th>yrs.since.phd</th>\n",
       "      <th>yrs.service</th>\n",
       "      <th>salary</th>\n",
       "    </tr>\n",
       "  </thead>\n",
       "  <tbody>\n",
       "    <tr>\n",
       "      <th>count</th>\n",
       "      <td>397.000000</td>\n",
       "      <td>397.000000</td>\n",
       "      <td>397.000000</td>\n",
       "      <td>397.000000</td>\n",
       "    </tr>\n",
       "    <tr>\n",
       "      <th>mean</th>\n",
       "      <td>1.508816</td>\n",
       "      <td>22.314861</td>\n",
       "      <td>17.614610</td>\n",
       "      <td>113706.458438</td>\n",
       "    </tr>\n",
       "    <tr>\n",
       "      <th>std</th>\n",
       "      <td>0.757486</td>\n",
       "      <td>12.887003</td>\n",
       "      <td>13.006024</td>\n",
       "      <td>30289.038695</td>\n",
       "    </tr>\n",
       "    <tr>\n",
       "      <th>min</th>\n",
       "      <td>0.000000</td>\n",
       "      <td>1.000000</td>\n",
       "      <td>0.000000</td>\n",
       "      <td>57800.000000</td>\n",
       "    </tr>\n",
       "    <tr>\n",
       "      <th>25%</th>\n",
       "      <td>1.000000</td>\n",
       "      <td>12.000000</td>\n",
       "      <td>7.000000</td>\n",
       "      <td>91000.000000</td>\n",
       "    </tr>\n",
       "    <tr>\n",
       "      <th>50%</th>\n",
       "      <td>2.000000</td>\n",
       "      <td>21.000000</td>\n",
       "      <td>16.000000</td>\n",
       "      <td>107300.000000</td>\n",
       "    </tr>\n",
       "    <tr>\n",
       "      <th>75%</th>\n",
       "      <td>2.000000</td>\n",
       "      <td>32.000000</td>\n",
       "      <td>27.000000</td>\n",
       "      <td>134185.000000</td>\n",
       "    </tr>\n",
       "    <tr>\n",
       "      <th>max</th>\n",
       "      <td>2.000000</td>\n",
       "      <td>56.000000</td>\n",
       "      <td>60.000000</td>\n",
       "      <td>231545.000000</td>\n",
       "    </tr>\n",
       "  </tbody>\n",
       "</table>\n",
       "</div>"
      ],
      "text/plain": [
       "             rank  yrs.since.phd  yrs.service         salary\n",
       "count  397.000000     397.000000   397.000000     397.000000\n",
       "mean     1.508816      22.314861    17.614610  113706.458438\n",
       "std      0.757486      12.887003    13.006024   30289.038695\n",
       "min      0.000000       1.000000     0.000000   57800.000000\n",
       "25%      1.000000      12.000000     7.000000   91000.000000\n",
       "50%      2.000000      21.000000    16.000000  107300.000000\n",
       "75%      2.000000      32.000000    27.000000  134185.000000\n",
       "max      2.000000      56.000000    60.000000  231545.000000"
      ]
     },
     "execution_count": 23,
     "metadata": {},
     "output_type": "execute_result"
    }
   ],
   "source": [
    "salary.describe()"
   ]
  },
  {
   "cell_type": "markdown",
   "id": "9b66c504",
   "metadata": {},
   "source": [
    "As per above decriptions\n",
    "there is huge difference between 75% and max in columns yrs.since.phd, yrs.service\n",
    "~ Rank:\n",
    "\n",
    "mean=1.508816\n",
    "\n",
    "std\t=0.757486\n",
    "\n",
    "max\t=2.000000\n",
    "\n",
    "min\t=0.000000\n",
    "\n",
    "~ yrs.since.phd\n",
    "\n",
    "mean= 22.314861\n",
    "\n",
    "std= 17.614610\t\n",
    "\n",
    "max= 56.000000\n",
    "\n",
    "min= 60.000000\n",
    "\n",
    "~yrs.service\n",
    "\n",
    "mean=17.614610\n",
    "\n",
    "std=13.006024\n",
    "\n",
    "max=60.000000\n",
    "\n",
    "min=0.000000\n",
    "\n",
    "~salary:\n",
    "\n",
    "mean=113706.458438\n",
    "\n",
    "std=30289.038695\n",
    "\n",
    "max=231545.000000\n",
    "\n",
    "min=57800.000000"
   ]
  },
  {
   "cell_type": "markdown",
   "id": "4c16d9b1",
   "metadata": {},
   "source": [
    "# Correlation:"
   ]
  },
  {
   "cell_type": "code",
   "execution_count": 24,
   "id": "bbb91aa6",
   "metadata": {},
   "outputs": [
    {
     "data": {
      "text/html": [
       "<div>\n",
       "<style scoped>\n",
       "    .dataframe tbody tr th:only-of-type {\n",
       "        vertical-align: middle;\n",
       "    }\n",
       "\n",
       "    .dataframe tbody tr th {\n",
       "        vertical-align: top;\n",
       "    }\n",
       "\n",
       "    .dataframe thead th {\n",
       "        text-align: right;\n",
       "    }\n",
       "</style>\n",
       "<table border=\"1\" class=\"dataframe\">\n",
       "  <thead>\n",
       "    <tr style=\"text-align: right;\">\n",
       "      <th></th>\n",
       "      <th>rank</th>\n",
       "      <th>yrs.since.phd</th>\n",
       "      <th>yrs.service</th>\n",
       "      <th>salary</th>\n",
       "    </tr>\n",
       "  </thead>\n",
       "  <tbody>\n",
       "    <tr>\n",
       "      <th>rank</th>\n",
       "      <td>1.000000</td>\n",
       "      <td>0.525500</td>\n",
       "      <td>0.447499</td>\n",
       "      <td>0.522207</td>\n",
       "    </tr>\n",
       "    <tr>\n",
       "      <th>yrs.since.phd</th>\n",
       "      <td>0.525500</td>\n",
       "      <td>1.000000</td>\n",
       "      <td>0.909649</td>\n",
       "      <td>0.419231</td>\n",
       "    </tr>\n",
       "    <tr>\n",
       "      <th>yrs.service</th>\n",
       "      <td>0.447499</td>\n",
       "      <td>0.909649</td>\n",
       "      <td>1.000000</td>\n",
       "      <td>0.334745</td>\n",
       "    </tr>\n",
       "    <tr>\n",
       "      <th>salary</th>\n",
       "      <td>0.522207</td>\n",
       "      <td>0.419231</td>\n",
       "      <td>0.334745</td>\n",
       "      <td>1.000000</td>\n",
       "    </tr>\n",
       "  </tbody>\n",
       "</table>\n",
       "</div>"
      ],
      "text/plain": [
       "                   rank  yrs.since.phd  yrs.service    salary\n",
       "rank           1.000000       0.525500     0.447499  0.522207\n",
       "yrs.since.phd  0.525500       1.000000     0.909649  0.419231\n",
       "yrs.service    0.447499       0.909649     1.000000  0.334745\n",
       "salary         0.522207       0.419231     0.334745  1.000000"
      ]
     },
     "execution_count": 24,
     "metadata": {},
     "output_type": "execute_result"
    }
   ],
   "source": [
    "salary.corr()"
   ]
  },
  {
   "cell_type": "code",
   "execution_count": 26,
   "id": "ab4c1e05",
   "metadata": {},
   "outputs": [
    {
     "data": {
      "text/plain": [
       "<AxesSubplot:>"
      ]
     },
     "execution_count": 26,
     "metadata": {},
     "output_type": "execute_result"
    },
    {
     "data": {
      "image/png": "[encoded data removed]",
      "text/plain": [
       "<Figure size 720x720 with 2 Axes>"
      ]
     },
     "metadata": {
      "needs_background": "light"
     },
     "output_type": "display_data"
    }
   ],
   "source": [
    "plt.figure(figsize=(10,10))\n",
    "sns.heatmap(salary.corr(), annot=True, linecolor='black')"
   ]
  },
  {
   "cell_type": "markdown",
   "id": "05502363",
   "metadata": {},
   "source": [
    "As per heatmap there are some observations are listed below:\n",
    "\n",
    "~ Rank is the highest correlated 52% among all the other factors\n",
    "\n",
    "~yrs.service is least correlated 33% to the among all the other factors\n",
    "\n",
    "~all the columns are positively correlated with salary column"
   ]
  },
  {
   "cell_type": "markdown",
   "id": "4b86ca96",
   "metadata": {},
   "source": [
    "# skewness"
   ]
  },
  {
   "cell_type": "code",
   "execution_count": 56,
   "id": "977c0b38",
   "metadata": {},
   "outputs": [
    {
     "data": {
      "text/plain": [
       "rank            -1.151164\n",
       "yrs.since.phd    0.300880\n",
       "yrs.service      0.650569\n",
       "salary           0.714568\n",
       "dtype: float64"
      ]
     },
     "execution_count": 56,
     "metadata": {},
     "output_type": "execute_result"
    }
   ],
   "source": [
    "salary.skew()"
   ]
  },
  {
   "cell_type": "markdown",
   "id": "6c5ecc72",
   "metadata": {},
   "source": [
    "the skewness threshold is take +/- .60 . so after analysis it is found that there is skewness in Rank , salary"
   ]
  },
  {
   "cell_type": "markdown",
   "id": "01774c51",
   "metadata": {},
   "source": [
    "# Distribution curve"
   ]
  },
  {
   "cell_type": "code",
   "execution_count": 70,
   "id": "2918c32a",
   "metadata": {},
   "outputs": [
    {
     "data": {
      "text/plain": [
       "<seaborn.axisgrid.JointGrid at 0x7f8a182145b0>"
      ]
     },
     "execution_count": 70,
     "metadata": {},
     "output_type": "execute_result"
    },
    {
     "data": {
      "image/png": "[encoded data removed]",
      "text/plain": [
       "<Figure size 432x432 with 3 Axes>"
      ]
     },
     "metadata": {
      "needs_background": "light"
     },
     "output_type": "display_data"
    }
   ],
   "source": [
    "sns.jointplot(x=salary['salary'] ,y=salary['yrs.service'] )"
   ]
  },
  {
   "cell_type": "code",
   "execution_count": 71,
   "id": "430c3a0a",
   "metadata": {},
   "outputs": [
    {
     "data": {
      "text/plain": [
       "<seaborn.axisgrid.JointGrid at 0x7f89fb518940>"
      ]
     },
     "execution_count": 71,
     "metadata": {},
     "output_type": "execute_result"
    },
    {
     "data": {
      "image/png": "[encoded data removed]",
      "text/plain": [
       "<Figure size 432x432 with 3 Axes>"
      ]
     },
     "metadata": {
      "needs_background": "light"
     },
     "output_type": "display_data"
    }
   ],
   "source": [
    "sns.jointplot(x=salary['salary'], y=salary['yrs.since.phd'])"
   ]
  },
  {
   "cell_type": "code",
   "execution_count": 72,
   "id": "de69f326",
   "metadata": {},
   "outputs": [
    {
     "data": {
      "text/plain": [
       "<seaborn.axisgrid.FacetGrid at 0x7f89fb114130>"
      ]
     },
     "execution_count": 72,
     "metadata": {},
     "output_type": "execute_result"
    },
    {
     "data": {
      "image/png": "[encoded data removed]",
      "text/plain": [
       "<Figure size 360x360 with 1 Axes>"
      ]
     },
     "metadata": {
      "needs_background": "light"
     },
     "output_type": "display_data"
    }
   ],
   "source": [
    "sns.displot(salary['salary'])"
   ]
  },
  {
   "cell_type": "markdown",
   "id": "179cd6e5",
   "metadata": {},
   "source": [
    "# Data cleaning "
   ]
  },
  {
   "cell_type": "markdown",
   "id": "85bc2283",
   "metadata": {},
   "source": [
    "In this Data Frame column 'sex' is not showing any kind of correlation with salary we will drop that column"
   ]
  },
  {
   "cell_type": "code",
   "execution_count": 75,
   "id": "8f276a28",
   "metadata": {},
   "outputs": [],
   "source": [
    "salary= salary.drop('sex' ,axis=1)"
   ]
  },
  {
   "cell_type": "code",
   "execution_count": 76,
   "id": "589cc0fa",
   "metadata": {},
   "outputs": [
    {
     "data": {
      "text/html": [
       "<div>\n",
       "<style scoped>\n",
       "    .dataframe tbody tr th:only-of-type {\n",
       "        vertical-align: middle;\n",
       "    }\n",
       "\n",
       "    .dataframe tbody tr th {\n",
       "        vertical-align: top;\n",
       "    }\n",
       "\n",
       "    .dataframe thead th {\n",
       "        text-align: right;\n",
       "    }\n",
       "</style>\n",
       "<table border=\"1\" class=\"dataframe\">\n",
       "  <thead>\n",
       "    <tr style=\"text-align: right;\">\n",
       "      <th></th>\n",
       "      <th>rank</th>\n",
       "      <th>discipline</th>\n",
       "      <th>yrs.since.phd</th>\n",
       "      <th>yrs.service</th>\n",
       "      <th>salary</th>\n",
       "    </tr>\n",
       "  </thead>\n",
       "  <tbody>\n",
       "    <tr>\n",
       "      <th>0</th>\n",
       "      <td>2</td>\n",
       "      <td>B</td>\n",
       "      <td>19</td>\n",
       "      <td>18</td>\n",
       "      <td>139750</td>\n",
       "    </tr>\n",
       "    <tr>\n",
       "      <th>1</th>\n",
       "      <td>2</td>\n",
       "      <td>B</td>\n",
       "      <td>20</td>\n",
       "      <td>16</td>\n",
       "      <td>173200</td>\n",
       "    </tr>\n",
       "    <tr>\n",
       "      <th>2</th>\n",
       "      <td>1</td>\n",
       "      <td>B</td>\n",
       "      <td>4</td>\n",
       "      <td>3</td>\n",
       "      <td>79750</td>\n",
       "    </tr>\n",
       "    <tr>\n",
       "      <th>3</th>\n",
       "      <td>2</td>\n",
       "      <td>B</td>\n",
       "      <td>45</td>\n",
       "      <td>39</td>\n",
       "      <td>115000</td>\n",
       "    </tr>\n",
       "    <tr>\n",
       "      <th>4</th>\n",
       "      <td>2</td>\n",
       "      <td>B</td>\n",
       "      <td>40</td>\n",
       "      <td>41</td>\n",
       "      <td>141500</td>\n",
       "    </tr>\n",
       "    <tr>\n",
       "      <th>...</th>\n",
       "      <td>...</td>\n",
       "      <td>...</td>\n",
       "      <td>...</td>\n",
       "      <td>...</td>\n",
       "      <td>...</td>\n",
       "    </tr>\n",
       "    <tr>\n",
       "      <th>392</th>\n",
       "      <td>2</td>\n",
       "      <td>A</td>\n",
       "      <td>33</td>\n",
       "      <td>30</td>\n",
       "      <td>103106</td>\n",
       "    </tr>\n",
       "    <tr>\n",
       "      <th>393</th>\n",
       "      <td>2</td>\n",
       "      <td>A</td>\n",
       "      <td>31</td>\n",
       "      <td>19</td>\n",
       "      <td>150564</td>\n",
       "    </tr>\n",
       "    <tr>\n",
       "      <th>394</th>\n",
       "      <td>2</td>\n",
       "      <td>A</td>\n",
       "      <td>42</td>\n",
       "      <td>25</td>\n",
       "      <td>101738</td>\n",
       "    </tr>\n",
       "    <tr>\n",
       "      <th>395</th>\n",
       "      <td>2</td>\n",
       "      <td>A</td>\n",
       "      <td>25</td>\n",
       "      <td>15</td>\n",
       "      <td>95329</td>\n",
       "    </tr>\n",
       "    <tr>\n",
       "      <th>396</th>\n",
       "      <td>1</td>\n",
       "      <td>A</td>\n",
       "      <td>8</td>\n",
       "      <td>4</td>\n",
       "      <td>81035</td>\n",
       "    </tr>\n",
       "  </tbody>\n",
       "</table>\n",
       "<p>397 rows × 5 columns</p>\n",
       "</div>"
      ],
      "text/plain": [
       "     rank discipline  yrs.since.phd  yrs.service  salary\n",
       "0       2          B             19           18  139750\n",
       "1       2          B             20           16  173200\n",
       "2       1          B              4            3   79750\n",
       "3       2          B             45           39  115000\n",
       "4       2          B             40           41  141500\n",
       "..    ...        ...            ...          ...     ...\n",
       "392     2          A             33           30  103106\n",
       "393     2          A             31           19  150564\n",
       "394     2          A             42           25  101738\n",
       "395     2          A             25           15   95329\n",
       "396     1          A              8            4   81035\n",
       "\n",
       "[397 rows x 5 columns]"
      ]
     },
     "execution_count": 76,
     "metadata": {},
     "output_type": "execute_result"
    }
   ],
   "source": [
    "salary"
   ]
  },
  {
   "cell_type": "code",
   "execution_count": 79,
   "id": "4499bcbf",
   "metadata": {},
   "outputs": [],
   "source": [
    "salary['discipline'] = salary.replace(to_replace=['B','A'], value=[0,1])"
   ]
  },
  {
   "cell_type": "code",
   "execution_count": 80,
   "id": "1ecfdf6e",
   "metadata": {},
   "outputs": [
    {
     "data": {
      "text/html": [
       "<div>\n",
       "<style scoped>\n",
       "    .dataframe tbody tr th:only-of-type {\n",
       "        vertical-align: middle;\n",
       "    }\n",
       "\n",
       "    .dataframe tbody tr th {\n",
       "        vertical-align: top;\n",
       "    }\n",
       "\n",
       "    .dataframe thead th {\n",
       "        text-align: right;\n",
       "    }\n",
       "</style>\n",
       "<table border=\"1\" class=\"dataframe\">\n",
       "  <thead>\n",
       "    <tr style=\"text-align: right;\">\n",
       "      <th></th>\n",
       "      <th>rank</th>\n",
       "      <th>discipline</th>\n",
       "      <th>yrs.since.phd</th>\n",
       "      <th>yrs.service</th>\n",
       "      <th>salary</th>\n",
       "    </tr>\n",
       "  </thead>\n",
       "  <tbody>\n",
       "    <tr>\n",
       "      <th>0</th>\n",
       "      <td>2</td>\n",
       "      <td>2</td>\n",
       "      <td>19</td>\n",
       "      <td>18</td>\n",
       "      <td>139750</td>\n",
       "    </tr>\n",
       "    <tr>\n",
       "      <th>1</th>\n",
       "      <td>2</td>\n",
       "      <td>2</td>\n",
       "      <td>20</td>\n",
       "      <td>16</td>\n",
       "      <td>173200</td>\n",
       "    </tr>\n",
       "    <tr>\n",
       "      <th>2</th>\n",
       "      <td>1</td>\n",
       "      <td>1</td>\n",
       "      <td>4</td>\n",
       "      <td>3</td>\n",
       "      <td>79750</td>\n",
       "    </tr>\n",
       "    <tr>\n",
       "      <th>3</th>\n",
       "      <td>2</td>\n",
       "      <td>2</td>\n",
       "      <td>45</td>\n",
       "      <td>39</td>\n",
       "      <td>115000</td>\n",
       "    </tr>\n",
       "    <tr>\n",
       "      <th>4</th>\n",
       "      <td>2</td>\n",
       "      <td>2</td>\n",
       "      <td>40</td>\n",
       "      <td>41</td>\n",
       "      <td>141500</td>\n",
       "    </tr>\n",
       "    <tr>\n",
       "      <th>...</th>\n",
       "      <td>...</td>\n",
       "      <td>...</td>\n",
       "      <td>...</td>\n",
       "      <td>...</td>\n",
       "      <td>...</td>\n",
       "    </tr>\n",
       "    <tr>\n",
       "      <th>392</th>\n",
       "      <td>2</td>\n",
       "      <td>2</td>\n",
       "      <td>33</td>\n",
       "      <td>30</td>\n",
       "      <td>103106</td>\n",
       "    </tr>\n",
       "    <tr>\n",
       "      <th>393</th>\n",
       "      <td>2</td>\n",
       "      <td>2</td>\n",
       "      <td>31</td>\n",
       "      <td>19</td>\n",
       "      <td>150564</td>\n",
       "    </tr>\n",
       "    <tr>\n",
       "      <th>394</th>\n",
       "      <td>2</td>\n",
       "      <td>2</td>\n",
       "      <td>42</td>\n",
       "      <td>25</td>\n",
       "      <td>101738</td>\n",
       "    </tr>\n",
       "    <tr>\n",
       "      <th>395</th>\n",
       "      <td>2</td>\n",
       "      <td>2</td>\n",
       "      <td>25</td>\n",
       "      <td>15</td>\n",
       "      <td>95329</td>\n",
       "    </tr>\n",
       "    <tr>\n",
       "      <th>396</th>\n",
       "      <td>1</td>\n",
       "      <td>1</td>\n",
       "      <td>8</td>\n",
       "      <td>4</td>\n",
       "      <td>81035</td>\n",
       "    </tr>\n",
       "  </tbody>\n",
       "</table>\n",
       "<p>397 rows × 5 columns</p>\n",
       "</div>"
      ],
      "text/plain": [
       "     rank  discipline  yrs.since.phd  yrs.service  salary\n",
       "0       2           2             19           18  139750\n",
       "1       2           2             20           16  173200\n",
       "2       1           1              4            3   79750\n",
       "3       2           2             45           39  115000\n",
       "4       2           2             40           41  141500\n",
       "..    ...         ...            ...          ...     ...\n",
       "392     2           2             33           30  103106\n",
       "393     2           2             31           19  150564\n",
       "394     2           2             42           25  101738\n",
       "395     2           2             25           15   95329\n",
       "396     1           1              8            4   81035\n",
       "\n",
       "[397 rows x 5 columns]"
      ]
     },
     "execution_count": 80,
     "metadata": {},
     "output_type": "execute_result"
    }
   ],
   "source": [
    "salary"
   ]
  },
  {
   "cell_type": "markdown",
   "id": "f1bde0dd",
   "metadata": {},
   "source": [
    "# Removing the outliers using Zscore"
   ]
  },
  {
   "cell_type": "code",
   "execution_count": 81,
   "id": "856762e7",
   "metadata": {},
   "outputs": [
    {
     "data": {
      "text/plain": [
       "(397, 5)"
      ]
     },
     "execution_count": 81,
     "metadata": {},
     "output_type": "execute_result"
    }
   ],
   "source": [
    "from scipy.stats import zscore\n",
    "z = np.abs(zscore(salary))\n",
    "z.shape"
   ]
  },
  {
   "cell_type": "code",
   "execution_count": 82,
   "id": "c8bfa517",
   "metadata": {},
   "outputs": [
    {
     "name": "stdout",
     "output_type": "stream",
     "text": [
      "(array([ 43, 131, 330, 364]), array([4, 3, 3, 4]))\n"
     ]
    }
   ],
   "source": [
    "threshold=3\n",
    "print(np.where(z>3))\n"
   ]
  },
  {
   "cell_type": "code",
   "execution_count": 84,
   "id": "13c25c79",
   "metadata": {},
   "outputs": [],
   "source": [
    "salary_new= salary[(z<3).all(axis=1)]"
   ]
  },
  {
   "cell_type": "code",
   "execution_count": 85,
   "id": "eba4ca24",
   "metadata": {},
   "outputs": [
    {
     "data": {
      "text/plain": [
       "(393, 5)"
      ]
     },
     "execution_count": 85,
     "metadata": {},
     "output_type": "execute_result"
    }
   ],
   "source": [
    "salary_new.shape"
   ]
  },
  {
   "cell_type": "markdown",
   "id": "58e3589d",
   "metadata": {},
   "source": [
    "As shown in the above line we did not loss a lot data while findling the zscore"
   ]
  },
  {
   "cell_type": "code",
   "execution_count": 125,
   "id": "ee4008c0",
   "metadata": {},
   "outputs": [],
   "source": [
    "from sklearn.model_selection import train_test_split\n",
    "from sklearn.linear_model import LinearRegression\n",
    "from sklearn.metrics import accuracy_score\n",
    "from sklearn.metrics import mean_squared_error ,r2_score\n",
    "from math import sqrt"
   ]
  },
  {
   "cell_type": "code",
   "execution_count": 104,
   "id": "836cdb46",
   "metadata": {},
   "outputs": [],
   "source": [
    "x=salary_new.iloc[:,0:-1]\n",
    "y= salary_new.iloc[:,-1]"
   ]
  },
  {
   "cell_type": "code",
   "execution_count": 109,
   "id": "cdc4595d",
   "metadata": {},
   "outputs": [
    {
     "name": "stdout",
     "output_type": "stream",
     "text": [
      "the mean suared error is: 616204057.3099649\n",
      "the r2 score is: 0.264409075161656\n"
     ]
    }
   ],
   "source": [
    "train_x,test_x,train_y,test_y= train_test_split(x,y, test_size=.20, random_state=48)\n",
    "\n",
    "lr = LinearRegression()\n",
    "lr.fit(train_x,train_y)\n",
    "lr.score(train_x,train_y)\n",
    "pred_lr= lr.predict(test_x)\n",
    "print('the mean suared error is:', mean_squared_error(test_y,pred_lr))\n",
    "print('the r2 score is:',r2_score(test_y,pred_lr))"
   ]
  },
  {
   "cell_type": "code",
   "execution_count": 97,
   "id": "44c89226",
   "metadata": {},
   "outputs": [
    {
     "data": {
      "text/plain": [
       "array([8491.55028449, 8491.55028449,  876.34234636, -496.39506931])"
      ]
     },
     "execution_count": 97,
     "metadata": {},
     "output_type": "execute_result"
    }
   ],
   "source": [
    "lr.coef_"
   ]
  },
  {
   "cell_type": "code",
   "execution_count": 102,
   "id": "72a8e0f5",
   "metadata": {},
   "outputs": [
    {
     "data": {
      "text/plain": [
       "<AxesSubplot:ylabel='salary'>"
      ]
     },
     "execution_count": 102,
     "metadata": {},
     "output_type": "execute_result"
    },
    {
     "data": {
      "image/png": "[encoded data removed]",
      "text/plain": [
       "<Figure size 432x288 with 1 Axes>"
      ]
     },
     "metadata": {
      "needs_background": "light"
     },
     "output_type": "display_data"
    }
   ],
   "source": [
    "sns.scatterplot(x=pred_lr, y=test_y, )"
   ]
  },
  {
   "cell_type": "markdown",
   "id": "9a52fd47",
   "metadata": {},
   "source": [
    "# Cross validation score"
   ]
  },
  {
   "cell_type": "code",
   "execution_count": 115,
   "id": "eb12c5c1",
   "metadata": {},
   "outputs": [
    {
     "name": "stdout",
     "output_type": "stream",
     "text": [
      "cross_val_score : [0.4810972  0.19106399 0.20069774 0.3131871  0.2602175 ]\n",
      "average corss_val_score is: 0.28925270500573325\n"
     ]
    }
   ],
   "source": [
    "from sklearn.model_selection import cross_val_score\n",
    "cross_val = cross_val_score(estimator=lr,X=train_x,y=train_y,cv=5)\n",
    "print('cross_val_score :', cross_val)\n",
    "print('average corss_val_score is:',np.mean(cross_val))"
   ]
  },
  {
   "cell_type": "markdown",
   "id": "579a35ee",
   "metadata": {},
   "source": [
    "# Trying the other models\n"
   ]
  },
  {
   "cell_type": "code",
   "execution_count": 124,
   "id": "e17c0ff1",
   "metadata": {},
   "outputs": [
    {
     "name": "stdout",
     "output_type": "stream",
     "text": [
      "the mean squared error of DecisionTreeRegressor() is 902798059.5766526\n",
      "the mean squared error of SVR() is 909744658.7516361\n",
      "the mean squared error of KNeighborsRegressor() is 522207848.6065823\n",
      "the mean squared error of RandomForestRegressor() is 629522548.412043\n"
     ]
    }
   ],
   "source": [
    "import sklearn\n",
    "from sklearn.tree import DecisionTreeRegressor\n",
    "from sklearn.svm import SVR\n",
    "from sklearn.neighbors import KNeighborsRegressor\n",
    "from sklearn.ensemble import RandomForestRegressor\n",
    "\n",
    "dtc = DecisionTreeRegressor()\n",
    "svr= SVR()\n",
    "knr= KNeighborsRegressor()\n",
    "rf= RandomForestRegressor()\n",
    "\n",
    "model=[dtc,svr,knr,rf]\n",
    "\n",
    "for m in model:\n",
    "    m.fit(train_x,train_y)\n",
    "    m.score(train_x,train_y)\n",
    "    pred_m = m.predict(test_x)\n",
    "    print('the mean squared error of', m ,'is',mean_squared_error(test_y,pred_m))\n",
    "    \n",
    "    \n"
   ]
  },
  {
   "cell_type": "markdown",
   "id": "1751eafe",
   "metadata": {},
   "source": [
    "# Evaluating the metrics"
   ]
  },
  {
   "cell_type": "code",
   "execution_count": 130,
   "id": "a43badd9",
   "metadata": {},
   "outputs": [
    {
     "name": "stdout",
     "output_type": "stream",
     "text": [
      "the mean sqaured error of  DecisionTreeRegressor() is 903210024.766526\n",
      "the RMSE of DecisionTreeRegressor() is 30053.45279275787\n",
      "the r2 score of  DecisionTreeRegressor() is -0.07820305556194573\n",
      "\n",
      "\n",
      "the mean sqaured error of  SVR() is 909744658.7516361\n",
      "the RMSE of SVR() is 30161.973721088547\n",
      "the r2 score of  SVR() is -0.08600374658233823\n",
      "\n",
      "\n",
      "the mean sqaured error of  KNeighborsRegressor() is 522207848.6065823\n",
      "the RMSE of KNeighborsRegressor() is 22851.86750807431\n",
      "the r2 score of  KNeighborsRegressor() is 0.3766166422349102\n",
      "\n",
      "\n",
      "the mean sqaured error of  RandomForestRegressor() is 636130422.78255\n",
      "the RMSE of RandomForestRegressor() is 25221.626093147723\n",
      "the r2 score of  RandomForestRegressor() is 0.2406220626732385\n",
      "\n",
      "\n",
      "the mean sqaured error of  LinearRegression() is 616204057.3099649\n",
      "the RMSE of LinearRegression() is 24823.457803254663\n",
      "the r2 score of  LinearRegression() is 0.264409075161656\n",
      "\n",
      "\n"
     ]
    }
   ],
   "source": [
    "dtc = DecisionTreeRegressor()\n",
    "svr= SVR()\n",
    "knr= KNeighborsRegressor()\n",
    "rf= RandomForestRegressor()\n",
    "lr = LinearRegression()\n",
    "\n",
    "model = [dtc,svr,knr,rf,lr]\n",
    "\n",
    "for i in model:\n",
    "    i.fit(train_x,train_y)\n",
    "    pred_i=i.predict(test_x)\n",
    "    print('the mean sqaured error of ',i, 'is', mean_squared_error(test_y,pred_i))\n",
    "    print('the RMSE of', i ,'is', sqrt(mean_squared_error(test_y,pred_i)) )\n",
    "    print('the r2 score of ', i,'is' ,r2_score(test_y,pred_i) )\n",
    "    print('\\n')"
   ]
  },
  {
   "cell_type": "markdown",
   "id": "19a3e64a",
   "metadata": {},
   "source": [
    "After the carefull analysis of above, it is clearly evident that KNN has the Lowest RMSE(root mean sqaured error) and highest r2 score among all other models followed by Linear Regression and Random forest Regressor. it is concluded that KNeighborsRegressor will be choose for prediction."
   ]
  },
  {
   "cell_type": "markdown",
   "id": "6e4cfdb9",
   "metadata": {},
   "source": [
    "# Saving the model"
   ]
  },
  {
   "cell_type": "code",
   "execution_count": 133,
   "id": "619db8de",
   "metadata": {},
   "outputs": [],
   "source": [
    "import pickle\n",
    "file= ('salary_prediction_knn.txt')\n",
    "pickle.dump(knr,open(file,'wb'))"
   ]
  },
  {
   "cell_type": "code",
   "execution_count": 134,
   "id": "1910c1d1",
   "metadata": {},
   "outputs": [],
   "source": [
    "# creating a dataframe of predicted and actual data\n",
    "pred_knr = knr.predict(test_x)\n",
    "salary=pd.DataFrame({'Actual salary':np.array(test_y),'Predicted salary':np.array(pred_knr)} )"
   ]
  },
  {
   "cell_type": "code",
   "execution_count": 135,
   "id": "5abc52e4",
   "metadata": {},
   "outputs": [
    {
     "data": {
      "text/html": [
       "<div>\n",
       "<style scoped>\n",
       "    .dataframe tbody tr th:only-of-type {\n",
       "        vertical-align: middle;\n",
       "    }\n",
       "\n",
       "    .dataframe tbody tr th {\n",
       "        vertical-align: top;\n",
       "    }\n",
       "\n",
       "    .dataframe thead th {\n",
       "        text-align: right;\n",
       "    }\n",
       "</style>\n",
       "<table border=\"1\" class=\"dataframe\">\n",
       "  <thead>\n",
       "    <tr style=\"text-align: right;\">\n",
       "      <th></th>\n",
       "      <th>Actual salary</th>\n",
       "      <th>Predicted salary</th>\n",
       "    </tr>\n",
       "  </thead>\n",
       "  <tbody>\n",
       "    <tr>\n",
       "      <th>0</th>\n",
       "      <td>100000</td>\n",
       "      <td>91609.8</td>\n",
       "    </tr>\n",
       "    <tr>\n",
       "      <th>1</th>\n",
       "      <td>108262</td>\n",
       "      <td>124676.6</td>\n",
       "    </tr>\n",
       "    <tr>\n",
       "      <th>2</th>\n",
       "      <td>74000</td>\n",
       "      <td>79700.0</td>\n",
       "    </tr>\n",
       "    <tr>\n",
       "      <th>3</th>\n",
       "      <td>119450</td>\n",
       "      <td>106703.0</td>\n",
       "    </tr>\n",
       "    <tr>\n",
       "      <th>4</th>\n",
       "      <td>168635</td>\n",
       "      <td>112843.6</td>\n",
       "    </tr>\n",
       "    <tr>\n",
       "      <th>...</th>\n",
       "      <td>...</td>\n",
       "      <td>...</td>\n",
       "    </tr>\n",
       "    <tr>\n",
       "      <th>74</th>\n",
       "      <td>74830</td>\n",
       "      <td>90429.8</td>\n",
       "    </tr>\n",
       "    <tr>\n",
       "      <th>75</th>\n",
       "      <td>152708</td>\n",
       "      <td>137069.0</td>\n",
       "    </tr>\n",
       "    <tr>\n",
       "      <th>76</th>\n",
       "      <td>136500</td>\n",
       "      <td>131743.8</td>\n",
       "    </tr>\n",
       "    <tr>\n",
       "      <th>77</th>\n",
       "      <td>193000</td>\n",
       "      <td>134558.6</td>\n",
       "    </tr>\n",
       "    <tr>\n",
       "      <th>78</th>\n",
       "      <td>114778</td>\n",
       "      <td>127627.8</td>\n",
       "    </tr>\n",
       "  </tbody>\n",
       "</table>\n",
       "<p>79 rows × 2 columns</p>\n",
       "</div>"
      ],
      "text/plain": [
       "    Actual salary  Predicted salary\n",
       "0          100000           91609.8\n",
       "1          108262          124676.6\n",
       "2           74000           79700.0\n",
       "3          119450          106703.0\n",
       "4          168635          112843.6\n",
       "..            ...               ...\n",
       "74          74830           90429.8\n",
       "75         152708          137069.0\n",
       "76         136500          131743.8\n",
       "77         193000          134558.6\n",
       "78         114778          127627.8\n",
       "\n",
       "[79 rows x 2 columns]"
      ]
     },
     "execution_count": 135,
     "metadata": {},
     "output_type": "execute_result"
    }
   ],
   "source": [
    "salary"
   ]
  },
  {
   "cell_type": "markdown",
   "id": "390a3fac",
   "metadata": {},
   "source": [
    "# Loading the model"
   ]
  },
  {
   "cell_type": "code",
   "execution_count": 136,
   "id": "410b3019",
   "metadata": {},
   "outputs": [
    {
     "data": {
      "text/plain": [
       "37.66166422349102"
      ]
     },
     "execution_count": 136,
     "metadata": {},
     "output_type": "execute_result"
    }
   ],
   "source": [
    "load_model = pickle.load(open(file,'rb'))\n",
    "score = load_model.score(test_x,test_y)*100\n",
    "score"
   ]
  },
  {
   "cell_type": "markdown",
   "id": "077887f6",
   "metadata": {},
   "source": [
    "The model has been given the data to predict."
   ]
  }
 ],
 "metadata": {
  "kernelspec": {
   "display_name": "Python 3",
   "language": "python",
   "name": "python3"
  },
  "language_info": {
   "codemirror_mode": {
    "name": "ipython",
    "version": 3
   },
   "file_extension": ".py",
   "mimetype": "text/x-python",
   "name": "python",
   "nbconvert_exporter": "python",
   "pygments_lexer": "ipython3",
   "version": "3.8.8"
  }
 },
 "nbformat": 4,
 "nbformat_minor": 5
}
