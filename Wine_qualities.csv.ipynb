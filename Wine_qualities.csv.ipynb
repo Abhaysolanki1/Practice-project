{
 "cells": [
  {
   "cell_type": "code",
   "execution_count": 1,
   "id": "c30a3e34",
   "metadata": {},
   "outputs": [],
   "source": [
    "import pandas as pd\n",
    "import numpy as np\n",
    "import matplotlib.pyplot as plt\n",
    "import seaborn as sns\n",
    "import warnings\n",
    "warnings.filterwarnings('ignore')"
   ]
  },
  {
   "cell_type": "code",
   "execution_count": 2,
   "id": "5500fe59",
   "metadata": {},
   "outputs": [],
   "source": [
    "#loading the csv file\n",
    "\n",
    "wine_quality= pd.read_csv('Wine_quality.csv')"
   ]
  },
  {
   "cell_type": "code",
   "execution_count": 3,
   "id": "b73eefe7",
   "metadata": {},
   "outputs": [
    {
     "data": {
      "text/html": [
       "<div>\n",
       "<style scoped>\n",
       "    .dataframe tbody tr th:only-of-type {\n",
       "        vertical-align: middle;\n",
       "    }\n",
       "\n",
       "    .dataframe tbody tr th {\n",
       "        vertical-align: top;\n",
       "    }\n",
       "\n",
       "    .dataframe thead th {\n",
       "        text-align: right;\n",
       "    }\n",
       "</style>\n",
       "<table border=\"1\" class=\"dataframe\">\n",
       "  <thead>\n",
       "    <tr style=\"text-align: right;\">\n",
       "      <th></th>\n",
       "      <th>fixed acidity</th>\n",
       "      <th>volatile acidity</th>\n",
       "      <th>citric acid</th>\n",
       "      <th>residual sugar</th>\n",
       "      <th>chlorides</th>\n",
       "      <th>free sulfur dioxide</th>\n",
       "      <th>total sulfur dioxide</th>\n",
       "      <th>density</th>\n",
       "      <th>pH</th>\n",
       "      <th>sulphates</th>\n",
       "      <th>alcohol</th>\n",
       "      <th>quality</th>\n",
       "    </tr>\n",
       "  </thead>\n",
       "  <tbody>\n",
       "    <tr>\n",
       "      <th>0</th>\n",
       "      <td>7.4</td>\n",
       "      <td>0.70</td>\n",
       "      <td>0.00</td>\n",
       "      <td>1.9</td>\n",
       "      <td>0.076</td>\n",
       "      <td>11.0</td>\n",
       "      <td>34.0</td>\n",
       "      <td>0.9978</td>\n",
       "      <td>3.51</td>\n",
       "      <td>0.56</td>\n",
       "      <td>9.4</td>\n",
       "      <td>5</td>\n",
       "    </tr>\n",
       "    <tr>\n",
       "      <th>1</th>\n",
       "      <td>7.8</td>\n",
       "      <td>0.88</td>\n",
       "      <td>0.00</td>\n",
       "      <td>2.6</td>\n",
       "      <td>0.098</td>\n",
       "      <td>25.0</td>\n",
       "      <td>67.0</td>\n",
       "      <td>0.9968</td>\n",
       "      <td>3.20</td>\n",
       "      <td>0.68</td>\n",
       "      <td>9.8</td>\n",
       "      <td>5</td>\n",
       "    </tr>\n",
       "    <tr>\n",
       "      <th>2</th>\n",
       "      <td>7.8</td>\n",
       "      <td>0.76</td>\n",
       "      <td>0.04</td>\n",
       "      <td>2.3</td>\n",
       "      <td>0.092</td>\n",
       "      <td>15.0</td>\n",
       "      <td>54.0</td>\n",
       "      <td>0.9970</td>\n",
       "      <td>3.26</td>\n",
       "      <td>0.65</td>\n",
       "      <td>9.8</td>\n",
       "      <td>5</td>\n",
       "    </tr>\n",
       "    <tr>\n",
       "      <th>3</th>\n",
       "      <td>11.2</td>\n",
       "      <td>0.28</td>\n",
       "      <td>0.56</td>\n",
       "      <td>1.9</td>\n",
       "      <td>0.075</td>\n",
       "      <td>17.0</td>\n",
       "      <td>60.0</td>\n",
       "      <td>0.9980</td>\n",
       "      <td>3.16</td>\n",
       "      <td>0.58</td>\n",
       "      <td>9.8</td>\n",
       "      <td>6</td>\n",
       "    </tr>\n",
       "    <tr>\n",
       "      <th>4</th>\n",
       "      <td>7.4</td>\n",
       "      <td>0.70</td>\n",
       "      <td>0.00</td>\n",
       "      <td>1.9</td>\n",
       "      <td>0.076</td>\n",
       "      <td>11.0</td>\n",
       "      <td>34.0</td>\n",
       "      <td>0.9978</td>\n",
       "      <td>3.51</td>\n",
       "      <td>0.56</td>\n",
       "      <td>9.4</td>\n",
       "      <td>5</td>\n",
       "    </tr>\n",
       "    <tr>\n",
       "      <th>5</th>\n",
       "      <td>7.4</td>\n",
       "      <td>0.66</td>\n",
       "      <td>0.00</td>\n",
       "      <td>1.8</td>\n",
       "      <td>0.075</td>\n",
       "      <td>13.0</td>\n",
       "      <td>40.0</td>\n",
       "      <td>0.9978</td>\n",
       "      <td>3.51</td>\n",
       "      <td>0.56</td>\n",
       "      <td>9.4</td>\n",
       "      <td>5</td>\n",
       "    </tr>\n",
       "    <tr>\n",
       "      <th>6</th>\n",
       "      <td>7.9</td>\n",
       "      <td>0.60</td>\n",
       "      <td>0.06</td>\n",
       "      <td>1.6</td>\n",
       "      <td>0.069</td>\n",
       "      <td>15.0</td>\n",
       "      <td>59.0</td>\n",
       "      <td>0.9964</td>\n",
       "      <td>3.30</td>\n",
       "      <td>0.46</td>\n",
       "      <td>9.4</td>\n",
       "      <td>5</td>\n",
       "    </tr>\n",
       "    <tr>\n",
       "      <th>7</th>\n",
       "      <td>7.3</td>\n",
       "      <td>0.65</td>\n",
       "      <td>0.00</td>\n",
       "      <td>1.2</td>\n",
       "      <td>0.065</td>\n",
       "      <td>15.0</td>\n",
       "      <td>21.0</td>\n",
       "      <td>0.9946</td>\n",
       "      <td>3.39</td>\n",
       "      <td>0.47</td>\n",
       "      <td>10.0</td>\n",
       "      <td>7</td>\n",
       "    </tr>\n",
       "    <tr>\n",
       "      <th>8</th>\n",
       "      <td>7.8</td>\n",
       "      <td>0.58</td>\n",
       "      <td>0.02</td>\n",
       "      <td>2.0</td>\n",
       "      <td>0.073</td>\n",
       "      <td>9.0</td>\n",
       "      <td>18.0</td>\n",
       "      <td>0.9968</td>\n",
       "      <td>3.36</td>\n",
       "      <td>0.57</td>\n",
       "      <td>9.5</td>\n",
       "      <td>7</td>\n",
       "    </tr>\n",
       "    <tr>\n",
       "      <th>9</th>\n",
       "      <td>7.5</td>\n",
       "      <td>0.50</td>\n",
       "      <td>0.36</td>\n",
       "      <td>6.1</td>\n",
       "      <td>0.071</td>\n",
       "      <td>17.0</td>\n",
       "      <td>102.0</td>\n",
       "      <td>0.9978</td>\n",
       "      <td>3.35</td>\n",
       "      <td>0.80</td>\n",
       "      <td>10.5</td>\n",
       "      <td>5</td>\n",
       "    </tr>\n",
       "  </tbody>\n",
       "</table>\n",
       "</div>"
      ],
      "text/plain": [
       "   fixed acidity  volatile acidity  citric acid  residual sugar  chlorides  \\\n",
       "0            7.4              0.70         0.00             1.9      0.076   \n",
       "1            7.8              0.88         0.00             2.6      0.098   \n",
       "2            7.8              0.76         0.04             2.3      0.092   \n",
       "3           11.2              0.28         0.56             1.9      0.075   \n",
       "4            7.4              0.70         0.00             1.9      0.076   \n",
       "5            7.4              0.66         0.00             1.8      0.075   \n",
       "6            7.9              0.60         0.06             1.6      0.069   \n",
       "7            7.3              0.65         0.00             1.2      0.065   \n",
       "8            7.8              0.58         0.02             2.0      0.073   \n",
       "9            7.5              0.50         0.36             6.1      0.071   \n",
       "\n",
       "   free sulfur dioxide  total sulfur dioxide  density    pH  sulphates  \\\n",
       "0                 11.0                  34.0   0.9978  3.51       0.56   \n",
       "1                 25.0                  67.0   0.9968  3.20       0.68   \n",
       "2                 15.0                  54.0   0.9970  3.26       0.65   \n",
       "3                 17.0                  60.0   0.9980  3.16       0.58   \n",
       "4                 11.0                  34.0   0.9978  3.51       0.56   \n",
       "5                 13.0                  40.0   0.9978  3.51       0.56   \n",
       "6                 15.0                  59.0   0.9964  3.30       0.46   \n",
       "7                 15.0                  21.0   0.9946  3.39       0.47   \n",
       "8                  9.0                  18.0   0.9968  3.36       0.57   \n",
       "9                 17.0                 102.0   0.9978  3.35       0.80   \n",
       "\n",
       "   alcohol  quality  \n",
       "0      9.4        5  \n",
       "1      9.8        5  \n",
       "2      9.8        5  \n",
       "3      9.8        6  \n",
       "4      9.4        5  \n",
       "5      9.4        5  \n",
       "6      9.4        5  \n",
       "7     10.0        7  \n",
       "8      9.5        7  \n",
       "9     10.5        5  "
      ]
     },
     "execution_count": 3,
     "metadata": {},
     "output_type": "execute_result"
    }
   ],
   "source": [
    "wine_quality.head(10)"
   ]
  },
  {
   "cell_type": "markdown",
   "id": "57c7bcb9",
   "metadata": {},
   "source": [
    "As from the file it is observed that in dataset there are 11 input column and 1 output columns.\n",
    "\n",
    "1 - fixed acidity\n",
    "\n",
    "2 - volatile acidity\n",
    "\n",
    "3 - citric acid\n",
    "\n",
    "4 - residual sugar\n",
    "\n",
    "5 - chlorides\n",
    "\n",
    "6 - free sulfur dioxide\n",
    "\n",
    "7 - total sulfur dioxide\n",
    "\n",
    "8 - density\n",
    "\n",
    "9 - pH\n",
    "\n",
    "10 - sulphates\n",
    "\n",
    "11 - alcohol\n",
    "\n",
    "12 - quality\n"
   ]
  },
  {
   "cell_type": "markdown",
   "id": "30d5bbff",
   "metadata": {},
   "source": [
    "# Inspiration "
   ]
  },
  {
   "cell_type": "markdown",
   "id": "0843fce9",
   "metadata": {},
   "source": [
    "Use machine learning to determine which physiochemical properties make a wine 'good'!\n",
    "\n"
   ]
  },
  {
   "cell_type": "markdown",
   "id": "bb042114",
   "metadata": {},
   "source": [
    "# EDA"
   ]
  },
  {
   "cell_type": "code",
   "execution_count": 4,
   "id": "73e0b690",
   "metadata": {},
   "outputs": [
    {
     "data": {
      "text/plain": [
       "Index(['fixed acidity', 'volatile acidity', 'citric acid', 'residual sugar',\n",
       "       'chlorides', 'free sulfur dioxide', 'total sulfur dioxide', 'density',\n",
       "       'pH', 'sulphates', 'alcohol', 'quality'],\n",
       "      dtype='object')"
      ]
     },
     "execution_count": 4,
     "metadata": {},
     "output_type": "execute_result"
    }
   ],
   "source": [
    "wine_quality.columns"
   ]
  },
  {
   "cell_type": "code",
   "execution_count": 5,
   "id": "762e23ce",
   "metadata": {},
   "outputs": [
    {
     "data": {
      "text/plain": [
       "5    681\n",
       "6    638\n",
       "7    199\n",
       "4     53\n",
       "8     18\n",
       "3     10\n",
       "Name: quality, dtype: int64"
      ]
     },
     "execution_count": 5,
     "metadata": {},
     "output_type": "execute_result"
    }
   ],
   "source": [
    "wine_quality.quality.value_counts()"
   ]
  },
  {
   "cell_type": "markdown",
   "id": "6b187847",
   "metadata": {},
   "source": [
    "The majority of the quality number are laying in 3 category. [ 5, 6, 7]"
   ]
  },
  {
   "cell_type": "code",
   "execution_count": 6,
   "id": "26c7fc34",
   "metadata": {},
   "outputs": [
    {
     "name": "stdout",
     "output_type": "stream",
     "text": [
      "<class 'pandas.core.frame.DataFrame'>\n",
      "RangeIndex: 1599 entries, 0 to 1598\n",
      "Data columns (total 12 columns):\n",
      " #   Column                Non-Null Count  Dtype  \n",
      "---  ------                --------------  -----  \n",
      " 0   fixed acidity         1599 non-null   float64\n",
      " 1   volatile acidity      1599 non-null   float64\n",
      " 2   citric acid           1599 non-null   float64\n",
      " 3   residual sugar        1599 non-null   float64\n",
      " 4   chlorides             1599 non-null   float64\n",
      " 5   free sulfur dioxide   1599 non-null   float64\n",
      " 6   total sulfur dioxide  1599 non-null   float64\n",
      " 7   density               1599 non-null   float64\n",
      " 8   pH                    1599 non-null   float64\n",
      " 9   sulphates             1599 non-null   float64\n",
      " 10  alcohol               1599 non-null   float64\n",
      " 11  quality               1599 non-null   int64  \n",
      "dtypes: float64(11), int64(1)\n",
      "memory usage: 150.0 KB\n"
     ]
    }
   ],
   "source": [
    "wine_quality.info()"
   ]
  },
  {
   "cell_type": "code",
   "execution_count": 7,
   "id": "89f2b215",
   "metadata": {},
   "outputs": [
    {
     "data": {
      "text/plain": [
       "fixed acidity           0\n",
       "volatile acidity        0\n",
       "citric acid             0\n",
       "residual sugar          0\n",
       "chlorides               0\n",
       "free sulfur dioxide     0\n",
       "total sulfur dioxide    0\n",
       "density                 0\n",
       "pH                      0\n",
       "sulphates               0\n",
       "alcohol                 0\n",
       "quality                 0\n",
       "dtype: int64"
      ]
     },
     "execution_count": 7,
     "metadata": {},
     "output_type": "execute_result"
    }
   ],
   "source": [
    "wine_quality.isnull().sum()"
   ]
  },
  {
   "cell_type": "markdown",
   "id": "bc4e6b27",
   "metadata": {},
   "source": [
    "As per obervation there is no null value in dataset. below the heat map emphasis that as well."
   ]
  },
  {
   "cell_type": "code",
   "execution_count": 8,
   "id": "e8457370",
   "metadata": {},
   "outputs": [
    {
     "data": {
      "text/plain": [
       "<AxesSubplot:>"
      ]
     },
     "execution_count": 8,
     "metadata": {},
     "output_type": "execute_result"
    },
    {
     "data": {
      "image/png": "[encoded data removed]",
      "text/plain": [
       "<Figure size 432x288 with 2 Axes>"
      ]
     },
     "metadata": {
      "needs_background": "light"
     },
     "output_type": "display_data"
    }
   ],
   "source": [
    "sns.heatmap(wine_quality.isnull())"
   ]
  },
  {
   "cell_type": "code",
   "execution_count": 9,
   "id": "83039569",
   "metadata": {},
   "outputs": [
    {
     "data": {
      "text/plain": [
       "array([5, 6, 7, 4, 8, 3])"
      ]
     },
     "execution_count": 9,
     "metadata": {},
     "output_type": "execute_result"
    }
   ],
   "source": [
    "wine_quality.quality.unique()"
   ]
  },
  {
   "cell_type": "markdown",
   "id": "4519df20",
   "metadata": {},
   "source": [
    "there are 6 different kind of the quality category from 3 to 8.\n",
    "\n",
    "in which, 3 is considered as the poor where 8  is concidered as the good."
   ]
  },
  {
   "cell_type": "code",
   "execution_count": 10,
   "id": "442d11bc",
   "metadata": {},
   "outputs": [
    {
     "data": {
      "text/html": [
       "<div>\n",
       "<style scoped>\n",
       "    .dataframe tbody tr th:only-of-type {\n",
       "        vertical-align: middle;\n",
       "    }\n",
       "\n",
       "    .dataframe tbody tr th {\n",
       "        vertical-align: top;\n",
       "    }\n",
       "\n",
       "    .dataframe thead th {\n",
       "        text-align: right;\n",
       "    }\n",
       "</style>\n",
       "<table border=\"1\" class=\"dataframe\">\n",
       "  <thead>\n",
       "    <tr style=\"text-align: right;\">\n",
       "      <th></th>\n",
       "      <th>fixed acidity</th>\n",
       "      <th>volatile acidity</th>\n",
       "      <th>citric acid</th>\n",
       "      <th>residual sugar</th>\n",
       "      <th>chlorides</th>\n",
       "      <th>free sulfur dioxide</th>\n",
       "      <th>total sulfur dioxide</th>\n",
       "      <th>density</th>\n",
       "      <th>pH</th>\n",
       "      <th>sulphates</th>\n",
       "      <th>alcohol</th>\n",
       "      <th>quality</th>\n",
       "    </tr>\n",
       "  </thead>\n",
       "  <tbody>\n",
       "    <tr>\n",
       "      <th>count</th>\n",
       "      <td>1599.000000</td>\n",
       "      <td>1599.000000</td>\n",
       "      <td>1599.000000</td>\n",
       "      <td>1599.000000</td>\n",
       "      <td>1599.000000</td>\n",
       "      <td>1599.000000</td>\n",
       "      <td>1599.000000</td>\n",
       "      <td>1599.000000</td>\n",
       "      <td>1599.000000</td>\n",
       "      <td>1599.000000</td>\n",
       "      <td>1599.000000</td>\n",
       "      <td>1599.000000</td>\n",
       "    </tr>\n",
       "    <tr>\n",
       "      <th>mean</th>\n",
       "      <td>8.319637</td>\n",
       "      <td>0.527821</td>\n",
       "      <td>0.270976</td>\n",
       "      <td>2.538806</td>\n",
       "      <td>0.087467</td>\n",
       "      <td>15.874922</td>\n",
       "      <td>46.467792</td>\n",
       "      <td>0.996747</td>\n",
       "      <td>3.311113</td>\n",
       "      <td>0.658149</td>\n",
       "      <td>10.422983</td>\n",
       "      <td>5.636023</td>\n",
       "    </tr>\n",
       "    <tr>\n",
       "      <th>std</th>\n",
       "      <td>1.741096</td>\n",
       "      <td>0.179060</td>\n",
       "      <td>0.194801</td>\n",
       "      <td>1.409928</td>\n",
       "      <td>0.047065</td>\n",
       "      <td>10.460157</td>\n",
       "      <td>32.895324</td>\n",
       "      <td>0.001887</td>\n",
       "      <td>0.154386</td>\n",
       "      <td>0.169507</td>\n",
       "      <td>1.065668</td>\n",
       "      <td>0.807569</td>\n",
       "    </tr>\n",
       "    <tr>\n",
       "      <th>min</th>\n",
       "      <td>4.600000</td>\n",
       "      <td>0.120000</td>\n",
       "      <td>0.000000</td>\n",
       "      <td>0.900000</td>\n",
       "      <td>0.012000</td>\n",
       "      <td>1.000000</td>\n",
       "      <td>6.000000</td>\n",
       "      <td>0.990070</td>\n",
       "      <td>2.740000</td>\n",
       "      <td>0.330000</td>\n",
       "      <td>8.400000</td>\n",
       "      <td>3.000000</td>\n",
       "    </tr>\n",
       "    <tr>\n",
       "      <th>25%</th>\n",
       "      <td>7.100000</td>\n",
       "      <td>0.390000</td>\n",
       "      <td>0.090000</td>\n",
       "      <td>1.900000</td>\n",
       "      <td>0.070000</td>\n",
       "      <td>7.000000</td>\n",
       "      <td>22.000000</td>\n",
       "      <td>0.995600</td>\n",
       "      <td>3.210000</td>\n",
       "      <td>0.550000</td>\n",
       "      <td>9.500000</td>\n",
       "      <td>5.000000</td>\n",
       "    </tr>\n",
       "    <tr>\n",
       "      <th>50%</th>\n",
       "      <td>7.900000</td>\n",
       "      <td>0.520000</td>\n",
       "      <td>0.260000</td>\n",
       "      <td>2.200000</td>\n",
       "      <td>0.079000</td>\n",
       "      <td>14.000000</td>\n",
       "      <td>38.000000</td>\n",
       "      <td>0.996750</td>\n",
       "      <td>3.310000</td>\n",
       "      <td>0.620000</td>\n",
       "      <td>10.200000</td>\n",
       "      <td>6.000000</td>\n",
       "    </tr>\n",
       "    <tr>\n",
       "      <th>75%</th>\n",
       "      <td>9.200000</td>\n",
       "      <td>0.640000</td>\n",
       "      <td>0.420000</td>\n",
       "      <td>2.600000</td>\n",
       "      <td>0.090000</td>\n",
       "      <td>21.000000</td>\n",
       "      <td>62.000000</td>\n",
       "      <td>0.997835</td>\n",
       "      <td>3.400000</td>\n",
       "      <td>0.730000</td>\n",
       "      <td>11.100000</td>\n",
       "      <td>6.000000</td>\n",
       "    </tr>\n",
       "    <tr>\n",
       "      <th>max</th>\n",
       "      <td>15.900000</td>\n",
       "      <td>1.580000</td>\n",
       "      <td>1.000000</td>\n",
       "      <td>15.500000</td>\n",
       "      <td>0.611000</td>\n",
       "      <td>72.000000</td>\n",
       "      <td>289.000000</td>\n",
       "      <td>1.003690</td>\n",
       "      <td>4.010000</td>\n",
       "      <td>2.000000</td>\n",
       "      <td>14.900000</td>\n",
       "      <td>8.000000</td>\n",
       "    </tr>\n",
       "  </tbody>\n",
       "</table>\n",
       "</div>"
      ],
      "text/plain": [
       "       fixed acidity  volatile acidity  citric acid  residual sugar  \\\n",
       "count    1599.000000       1599.000000  1599.000000     1599.000000   \n",
       "mean        8.319637          0.527821     0.270976        2.538806   \n",
       "std         1.741096          0.179060     0.194801        1.409928   \n",
       "min         4.600000          0.120000     0.000000        0.900000   \n",
       "25%         7.100000          0.390000     0.090000        1.900000   \n",
       "50%         7.900000          0.520000     0.260000        2.200000   \n",
       "75%         9.200000          0.640000     0.420000        2.600000   \n",
       "max        15.900000          1.580000     1.000000       15.500000   \n",
       "\n",
       "         chlorides  free sulfur dioxide  total sulfur dioxide      density  \\\n",
       "count  1599.000000          1599.000000           1599.000000  1599.000000   \n",
       "mean      0.087467            15.874922             46.467792     0.996747   \n",
       "std       0.047065            10.460157             32.895324     0.001887   \n",
       "min       0.012000             1.000000              6.000000     0.990070   \n",
       "25%       0.070000             7.000000             22.000000     0.995600   \n",
       "50%       0.079000            14.000000             38.000000     0.996750   \n",
       "75%       0.090000            21.000000             62.000000     0.997835   \n",
       "max       0.611000            72.000000            289.000000     1.003690   \n",
       "\n",
       "                pH    sulphates      alcohol      quality  \n",
       "count  1599.000000  1599.000000  1599.000000  1599.000000  \n",
       "mean      3.311113     0.658149    10.422983     5.636023  \n",
       "std       0.154386     0.169507     1.065668     0.807569  \n",
       "min       2.740000     0.330000     8.400000     3.000000  \n",
       "25%       3.210000     0.550000     9.500000     5.000000  \n",
       "50%       3.310000     0.620000    10.200000     6.000000  \n",
       "75%       3.400000     0.730000    11.100000     6.000000  \n",
       "max       4.010000     2.000000    14.900000     8.000000  "
      ]
     },
     "execution_count": 10,
     "metadata": {},
     "output_type": "execute_result"
    }
   ],
   "source": [
    "wine_quality.describe()"
   ]
  },
  {
   "cell_type": "code",
   "execution_count": 11,
   "id": "18d9b800",
   "metadata": {},
   "outputs": [
    {
     "data": {
      "text/plain": [
       "(array([ 0.5,  1.5,  2.5,  3.5,  4.5,  5.5,  6.5,  7.5,  8.5,  9.5, 10.5,\n",
       "        11.5]),\n",
       " [Text(0, 0.5, 'fixed acidity'),\n",
       "  Text(0, 1.5, 'volatile acidity'),\n",
       "  Text(0, 2.5, 'citric acid'),\n",
       "  Text(0, 3.5, 'residual sugar'),\n",
       "  Text(0, 4.5, 'chlorides'),\n",
       "  Text(0, 5.5, 'free sulfur dioxide'),\n",
       "  Text(0, 6.5, 'total sulfur dioxide'),\n",
       "  Text(0, 7.5, 'density'),\n",
       "  Text(0, 8.5, 'pH'),\n",
       "  Text(0, 9.5, 'sulphates'),\n",
       "  Text(0, 10.5, 'alcohol'),\n",
       "  Text(0, 11.5, 'quality')])"
      ]
     },
     "execution_count": 11,
     "metadata": {},
     "output_type": "execute_result"
    },
    {
     "data": {
      "image/png": "[encoded data removed]",
      "text/plain": [
       "<Figure size 1296x864 with 2 Axes>"
      ]
     },
     "metadata": {
      "needs_background": "light"
     },
     "output_type": "display_data"
    }
   ],
   "source": [
    "plt.figure(figsize=(18,12))\n",
    "sns.heatmap(data=wine_quality.describe().transpose(),annot=True ,linecolor='white', linewidths=0.2)\n",
    "plt.xticks(fontsize=15)\n",
    "plt.yticks(fontsize=15)"
   ]
  },
  {
   "cell_type": "markdown",
   "id": "8e3f1e80",
   "metadata": {},
   "source": [
    "details gathered from Heatmap:\n",
    "\n",
    "otal number of rows and columns in dataset:\n",
    "\n",
    "1.1599 rows\n",
    "\n",
    "2.12 columns\n",
    "\n",
    "Fixed acidity:\n",
    "\n",
    "     1.Mean=8.32\n",
    "     2.std=1.74\n",
    "     3.max_value=15.90\n",
    "     4.min_value=4.60\n",
    "\n",
    "Volatile acidity:\n",
    "\n",
    "     1.Mean=8.53\n",
    "     2.std=0.18\n",
    "     3.max_value=1.58\n",
    "     4.min_value=0.12\n",
    "\n",
    "Citric acid:\n",
    "\n",
    "     1.Mean=0.27\n",
    "     2.std=0.19\n",
    "     3.max_value=1.00\n",
    "     4.min_value=0.00\n",
    "\n",
    "Residual sugar:\n",
    "\n",
    "     1.Mean=2.54\n",
    "     2.std=1.41\n",
    "     3.max_value=15.50\n",
    "     4.min_value=0.90\n",
    "     \n",
    "Chlorides:\n",
    "\n",
    "     1.Mean=0.09\n",
    "     2.std=0.05\n",
    "     3.max_value=0.61\n",
    "     4.min_value=0.01\n",
    "\n",
    "Free sulfur dioxide:\n",
    "\n",
    "     1.Mean=15.87\n",
    "     2.std=10.46\n",
    "     3.max_value=72.00\n",
    "     4.min_value=1.00\n",
    "\n",
    "Total sulfur dioxide:\n",
    "\n",
    "     1.Mean=46.47\n",
    "     2.std=32.90\n",
    "     3.max_value=289.00\n",
    "     4.min_value=6.00\n",
    "\n",
    "Density:\n",
    "\n",
    "     1.Mean=1.00\n",
    "     2.std=0.00\n",
    "     3.max_value=1.00\n",
    "     4.min_value=0.99\n",
    "\n",
    "pH:\n",
    "\n",
    "     1.Mean=3.31\n",
    "     2.std=0.15\n",
    "     3.max_value=4.01\n",
    "     4.min_value=2.74\n",
    "\n",
    "Sulphates:\n",
    "\n",
    "     1.Mean=0.66\n",
    "     2.std=0.17\n",
    "     3.max_value=2.00\n",
    "     4.min_value=0.33\n",
    "\n",
    "Alcohol:\n",
    "\n",
    "     1.Mean=10.42\n",
    "     2.std=1.07\n",
    "     3.max_value=14.90\n",
    "     4.min_value=8.40\n",
    "\n",
    "Quality:\n",
    "\n",
    "     1.Mean=5.64\n",
    "     2.std=0.81\n",
    "     3.max_value=8.00\n",
    "     4.min_value=3.00\n",
    "\n",
    "in which quality is output whether other factors are input variable.\n",
    "\n"
   ]
  },
  {
   "cell_type": "markdown",
   "id": "4e22b80e",
   "metadata": {},
   "source": [
    "# Correlation"
   ]
  },
  {
   "cell_type": "code",
   "execution_count": 12,
   "id": "7bf81671",
   "metadata": {},
   "outputs": [
    {
     "data": {
      "text/plain": [
       "<AxesSubplot:>"
      ]
     },
     "execution_count": 12,
     "metadata": {},
     "output_type": "execute_result"
    },
    {
     "data": {
      "image/png": "[encoded data removed]",
      "text/plain": [
       "<Figure size 1008x864 with 2 Axes>"
      ]
     },
     "metadata": {
      "needs_background": "light"
     },
     "output_type": "display_data"
    }
   ],
   "source": [
    "wine_quality.corr()\n",
    "plt.figure(figsize=(14,12))\n",
    "sns.heatmap(data=wine_quality.corr(),cmap='coolwarm' , linecolor='white', linewidths=0.2 , annot=True)"
   ]
  },
  {
   "cell_type": "markdown",
   "id": "1b55cdc3",
   "metadata": {},
   "source": [
    "Some obervation from the heatmap are listed below.\n",
    "\n",
    "1:- Alcohol is the highest correlated to Quality.\n",
    "\n",
    "2:- Volatile acidity shows the highest negative correlation with quality. Apart from this Chlorides,Free sulfur dioxide,pH,Density,Total sulfur dioxide also shos neggative correlation with quality.\n",
    "\n",
    "3:- fixed Acidity and density are highly  negative correlated.\n",
    "\n",
    "4:- free sulphar dioxide and total sulphar dioxide also highly correlated to each other.\n"
   ]
  },
  {
   "cell_type": "markdown",
   "id": "55116dff",
   "metadata": {},
   "source": [
    "# Checking the outlier"
   ]
  },
  {
   "cell_type": "code",
   "execution_count": 13,
   "id": "ff0094a2",
   "metadata": {},
   "outputs": [
    {
     "data": {
      "text/plain": [
       "<AxesSubplot:>"
      ]
     },
     "execution_count": 13,
     "metadata": {},
     "output_type": "execute_result"
    },
    {
     "data": {
      "image/png": "[encoded data removed]",
      "text/plain": [
       "<Figure size 432x288 with 1 Axes>"
      ]
     },
     "metadata": {
      "needs_background": "light"
     },
     "output_type": "display_data"
    }
   ],
   "source": [
    "sns.boxplot(data=wine_quality.quality)"
   ]
  },
  {
   "cell_type": "code",
   "execution_count": 14,
   "id": "6fb13943",
   "metadata": {},
   "outputs": [
    {
     "data": {
      "text/plain": [
       "<AxesSubplot:>"
      ]
     },
     "execution_count": 14,
     "metadata": {},
     "output_type": "execute_result"
    },
    {
     "data": {
      "image/png": "[encoded data removed]",
      "text/plain": [
       "<Figure size 432x288 with 1 Axes>"
      ]
     },
     "metadata": {
      "needs_background": "light"
     },
     "output_type": "display_data"
    }
   ],
   "source": [
    "sns.boxplot(data=wine_quality['fixed acidity'])"
   ]
  },
  {
   "cell_type": "markdown",
   "id": "d1167b43",
   "metadata": {},
   "source": [
    "There are some outlier present in fixed acidity"
   ]
  },
  {
   "cell_type": "code",
   "execution_count": 15,
   "id": "897254b0",
   "metadata": {},
   "outputs": [
    {
     "data": {
      "text/plain": [
       "<AxesSubplot:>"
      ]
     },
     "execution_count": 15,
     "metadata": {},
     "output_type": "execute_result"
    },
    {
     "data": {
      "image/png": "[encoded data removed]",
      "text/plain": [
       "<Figure size 432x288 with 1 Axes>"
      ]
     },
     "metadata": {
      "needs_background": "light"
     },
     "output_type": "display_data"
    }
   ],
   "source": [
    "sns.boxplot(data=wine_quality['citric acid'], width=0.5)"
   ]
  },
  {
   "cell_type": "markdown",
   "id": "6cef322a",
   "metadata": {},
   "source": [
    "the number of outliers is very less."
   ]
  },
  {
   "cell_type": "code",
   "execution_count": 16,
   "id": "6f6c5168",
   "metadata": {},
   "outputs": [
    {
     "data": {
      "text/plain": [
       "<AxesSubplot:>"
      ]
     },
     "execution_count": 16,
     "metadata": {},
     "output_type": "execute_result"
    },
    {
     "data": {
      "image/png": "[encoded data removed]",
      "text/plain": [
       "<Figure size 432x288 with 1 Axes>"
      ]
     },
     "metadata": {
      "needs_background": "light"
     },
     "output_type": "display_data"
    }
   ],
   "source": [
    "sns.boxplot(data=wine_quality['residual sugar'], width=0.2)"
   ]
  },
  {
   "cell_type": "markdown",
   "id": "e34dd905",
   "metadata": {},
   "source": [
    "there are lots of outlier present in residual sugar."
   ]
  },
  {
   "cell_type": "code",
   "execution_count": 17,
   "id": "9f7e22c4",
   "metadata": {},
   "outputs": [
    {
     "data": {
      "text/plain": [
       "<AxesSubplot:>"
      ]
     },
     "execution_count": 17,
     "metadata": {},
     "output_type": "execute_result"
    },
    {
     "data": {
      "image/png": "[encoded data removed]",
      "text/plain": [
       "<Figure size 432x288 with 1 Axes>"
      ]
     },
     "metadata": {
      "needs_background": "light"
     },
     "output_type": "display_data"
    }
   ],
   "source": [
    "sns.boxplot(data=wine_quality['alcohol'])"
   ]
  },
  {
   "cell_type": "markdown",
   "id": "271e36a0",
   "metadata": {},
   "source": [
    "there are some outliers are present in alcohol"
   ]
  },
  {
   "cell_type": "code",
   "execution_count": 18,
   "id": "9390582b",
   "metadata": {},
   "outputs": [
    {
     "data": {
      "text/plain": [
       "fixed acidity               AxesSubplot(0.125,0.71587;0.168478x0.16413)\n",
       "volatile acidity         AxesSubplot(0.327174,0.71587;0.168478x0.16413)\n",
       "citric acid              AxesSubplot(0.529348,0.71587;0.168478x0.16413)\n",
       "residual sugar           AxesSubplot(0.731522,0.71587;0.168478x0.16413)\n",
       "chlorides                  AxesSubplot(0.125,0.518913;0.168478x0.16413)\n",
       "free sulfur dioxide     AxesSubplot(0.327174,0.518913;0.168478x0.16413)\n",
       "total sulfur dioxide    AxesSubplot(0.529348,0.518913;0.168478x0.16413)\n",
       "density                 AxesSubplot(0.731522,0.518913;0.168478x0.16413)\n",
       "pH                         AxesSubplot(0.125,0.321957;0.168478x0.16413)\n",
       "sulphates               AxesSubplot(0.327174,0.321957;0.168478x0.16413)\n",
       "alcohol                 AxesSubplot(0.529348,0.321957;0.168478x0.16413)\n",
       "quality                 AxesSubplot(0.731522,0.321957;0.168478x0.16413)\n",
       "dtype: object"
      ]
     },
     "execution_count": 18,
     "metadata": {},
     "output_type": "execute_result"
    },
    {
     "data": {
      "image/png": "[encoded data removed]",
      "text/plain": [
       "<Figure size 1008x1296 with 16 Axes>"
      ]
     },
     "metadata": {
      "needs_background": "light"
     },
     "output_type": "display_data"
    }
   ],
   "source": [
    "wine_quality.plot(kind='box', subplots = True, layout = [4,4], figsize= [14,18] , color = 'blue')"
   ]
  },
  {
   "cell_type": "markdown",
   "id": "16a18f90",
   "metadata": {},
   "source": [
    "As per the observation in multivariate observation sulphates, pH,density, chlorides, residual sugar, free sulphar dioxide and total sulphar dioxide consist large number of outliers."
   ]
  },
  {
   "cell_type": "markdown",
   "id": "2b6c5102",
   "metadata": {},
   "source": [
    "# skewness"
   ]
  },
  {
   "cell_type": "code",
   "execution_count": 19,
   "id": "0b02e3d0",
   "metadata": {},
   "outputs": [
    {
     "data": {
      "text/plain": [
       "fixed acidity           0.982751\n",
       "volatile acidity        0.671593\n",
       "citric acid             0.318337\n",
       "residual sugar          4.540655\n",
       "chlorides               5.680347\n",
       "free sulfur dioxide     1.250567\n",
       "total sulfur dioxide    1.515531\n",
       "density                 0.071288\n",
       "pH                      0.193683\n",
       "sulphates               2.428672\n",
       "alcohol                 0.860829\n",
       "quality                 0.217802\n",
       "dtype: float64"
      ]
     },
     "execution_count": 19,
     "metadata": {},
     "output_type": "execute_result"
    }
   ],
   "source": [
    "wine_quality.skew()"
   ]
  },
  {
   "cell_type": "markdown",
   "id": "85ca989b",
   "metadata": {},
   "source": [
    "As considering the threshold +/-0.5 we can see the there are some of the factor in which data is skewed.\n",
    "fixed acidity,volatile acidity,residual sugar,chlorides,free sulfur dioxide,total sulfur dioxide,sulphates these column show the skewness."
   ]
  },
  {
   "cell_type": "code",
   "execution_count": 20,
   "id": "d6ea7d7d",
   "metadata": {},
   "outputs": [
    {
     "data": {
      "text/plain": [
       "(array([ 45., 229., 542., 371., 188., 110.,  76.,  26.,   5.,   7.]),\n",
       " array([ 4.6 ,  5.73,  6.86,  7.99,  9.12, 10.25, 11.38, 12.51, 13.64,\n",
       "        14.77, 15.9 ]),\n",
       " <BarContainer object of 10 artists>)"
      ]
     },
     "execution_count": 20,
     "metadata": {},
     "output_type": "execute_result"
    },
    {
     "data": {
      "image/png": "[encoded data removed]",
      "text/plain": [
       "<Figure size 432x288 with 1 Axes>"
      ]
     },
     "metadata": {
      "needs_background": "light"
     },
     "output_type": "display_data"
    }
   ],
   "source": [
    "plt.hist(data=wine_quality , x='fixed acidity')"
   ]
  },
  {
   "cell_type": "code",
   "execution_count": 21,
   "id": "7c39a3c9",
   "metadata": {},
   "outputs": [
    {
     "data": {
      "text/plain": [
       "<AxesSubplot:xlabel='residual sugar', ylabel='Count'>"
      ]
     },
     "execution_count": 21,
     "metadata": {},
     "output_type": "execute_result"
    },
    {
     "data": {
      "image/png": "[encoded data removed]",
      "text/plain": [
       "<Figure size 432x288 with 1 Axes>"
      ]
     },
     "metadata": {
      "needs_background": "light"
     },
     "output_type": "display_data"
    }
   ],
   "source": [
    "sns.histplot(data=wine_quality, x='residual sugar', bins=10)"
   ]
  },
  {
   "cell_type": "code",
   "execution_count": 22,
   "id": "b4a8cffb",
   "metadata": {},
   "outputs": [
    {
     "data": {
      "text/plain": [
       "<AxesSubplot:xlabel='chlorides', ylabel='Count'>"
      ]
     },
     "execution_count": 22,
     "metadata": {},
     "output_type": "execute_result"
    },
    {
     "data": {
      "image/png": "[encoded data removed]",
      "text/plain": [
       "<Figure size 432x288 with 1 Axes>"
      ]
     },
     "metadata": {
      "needs_background": "light"
     },
     "output_type": "display_data"
    }
   ],
   "source": [
    "sns.histplot(data=wine_quality, x= 'chlorides', bins=15, kde=True)"
   ]
  },
  {
   "cell_type": "code",
   "execution_count": 23,
   "id": "e691013d",
   "metadata": {},
   "outputs": [
    {
     "data": {
      "text/plain": [
       "<AxesSubplot:xlabel='free sulfur dioxide', ylabel='Count'>"
      ]
     },
     "execution_count": 23,
     "metadata": {},
     "output_type": "execute_result"
    },
    {
     "data": {
      "image/png": "[encoded data removed]",
      "text/plain": [
       "<Figure size 432x288 with 1 Axes>"
      ]
     },
     "metadata": {
      "needs_background": "light"
     },
     "output_type": "display_data"
    }
   ],
   "source": [
    "sns.histplot(data=wine_quality, x='free sulfur dioxide', kde=True)"
   ]
  },
  {
   "cell_type": "code",
   "execution_count": 24,
   "id": "e6252964",
   "metadata": {},
   "outputs": [
    {
     "data": {
      "text/plain": [
       "<AxesSubplot:xlabel='sulphates', ylabel='Count'>"
      ]
     },
     "execution_count": 24,
     "metadata": {},
     "output_type": "execute_result"
    },
    {
     "data": {
      "image/png": "[encoded data removed]",
      "text/plain": [
       "<Figure size 432x288 with 1 Axes>"
      ]
     },
     "metadata": {
      "needs_background": "light"
     },
     "output_type": "display_data"
    }
   ],
   "source": [
    "sns.histplot(data=wine_quality, x='sulphates', bins=15 , kde= True)"
   ]
  },
  {
   "cell_type": "code",
   "execution_count": 25,
   "id": "aac829ec",
   "metadata": {},
   "outputs": [
    {
     "data": {
      "text/plain": [
       "array([[<AxesSubplot:ylabel='Frequency'>,\n",
       "        <AxesSubplot:ylabel='Frequency'>,\n",
       "        <AxesSubplot:ylabel='Frequency'>,\n",
       "        <AxesSubplot:ylabel='Frequency'>],\n",
       "       [<AxesSubplot:ylabel='Frequency'>,\n",
       "        <AxesSubplot:ylabel='Frequency'>,\n",
       "        <AxesSubplot:ylabel='Frequency'>,\n",
       "        <AxesSubplot:ylabel='Frequency'>],\n",
       "       [<AxesSubplot:ylabel='Frequency'>,\n",
       "        <AxesSubplot:ylabel='Frequency'>,\n",
       "        <AxesSubplot:ylabel='Frequency'>,\n",
       "        <AxesSubplot:ylabel='Frequency'>],\n",
       "       [<AxesSubplot:ylabel='Frequency'>,\n",
       "        <AxesSubplot:ylabel='Frequency'>,\n",
       "        <AxesSubplot:ylabel='Frequency'>,\n",
       "        <AxesSubplot:ylabel='Frequency'>]], dtype=object)"
      ]
     },
     "execution_count": 25,
     "metadata": {},
     "output_type": "execute_result"
    },
    {
     "data": {
      "image/png": "[encoded data removed]",
      "text/plain": [
       "<Figure size 1008x1296 with 16 Axes>"
      ]
     },
     "metadata": {
      "needs_background": "light"
     },
     "output_type": "display_data"
    }
   ],
   "source": [
    "wine_quality.plot(kind='hist', subplots= True, layout= [4,4], figsize= [14,18], bins=30)"
   ]
  },
  {
   "cell_type": "markdown",
   "id": "e61dc140",
   "metadata": {},
   "source": [
    "As observed that data is skewed a bit in most of the column and no normal distribution is present in most of the columns."
   ]
  },
  {
   "cell_type": "markdown",
   "id": "690d8fc9",
   "metadata": {},
   "source": [
    "# Removing the outliers"
   ]
  },
  {
   "cell_type": "code",
   "execution_count": 26,
   "id": "e1894668",
   "metadata": {},
   "outputs": [],
   "source": [
    "from scipy.stats import zscore\n",
    "z =np.abs(zscore(wine_quality))\n",
    "#checking the zscore of every column"
   ]
  },
  {
   "cell_type": "code",
   "execution_count": 27,
   "id": "a02c7f47",
   "metadata": {},
   "outputs": [
    {
     "name": "stdout",
     "output_type": "stream",
     "text": [
      "(array([  13,   14,   15,   15,   17,   17,   19,   33,   38,   42,   43,\n",
      "         45,   57,   81,   81,   83,   86,   88,   91,   92,   95,  106,\n",
      "        106,  109,  120,  126,  127,  142,  144,  147,  151,  151,  151,\n",
      "        151,  163,  164,  169,  169,  181,  199,  226,  226,  240,  243,\n",
      "        244,  258,  258,  274,  281,  291,  324,  325,  339,  340,  347,\n",
      "        354,  374,  381,  391,  396,  396,  400,  400,  442,  442,  451,\n",
      "        459,  467,  480,  480,  494,  515,  517,  544,  554,  554,  555,\n",
      "        555,  557,  557,  568,  584,  588,  591,  595,  608,  614,  636,\n",
      "        639,  649,  649,  651,  652,  652,  652,  672,  672,  684,  690,\n",
      "        690,  692,  692,  695,  723,  724,  730,  754,  776,  777,  795,\n",
      "        821,  832,  836,  837,  889,  899,  911,  917,  923,  925,  926,\n",
      "        982, 1017, 1018, 1043, 1051, 1051, 1071, 1074, 1079, 1079, 1081,\n",
      "       1081, 1111, 1114, 1131, 1154, 1165, 1175, 1186, 1231, 1235, 1244,\n",
      "       1244, 1244, 1260, 1269, 1269, 1270, 1270, 1288, 1289, 1295, 1296,\n",
      "       1299, 1299, 1300, 1312, 1316, 1319, 1319, 1321, 1358, 1367, 1370,\n",
      "       1370, 1372, 1372, 1374, 1374, 1434, 1434, 1434, 1435, 1435, 1435,\n",
      "       1469, 1474, 1474, 1474, 1476, 1476, 1476, 1478, 1493, 1496, 1505,\n",
      "       1558, 1558, 1570, 1574, 1589]), array([ 9,  5,  5,  6,  4,  9,  4,  3,  1,  4,  9,  8,  5,  4,  9,  4,  9,\n",
      "        9,  9,  9,  8,  4,  9,  6,  1,  1,  1, 10, 10,  4,  2,  4,  8,  9,\n",
      "        3,  3,  4,  9,  4,  1,  4,  9,  4,  0,  0,  4,  9,  3,  4,  4,  3,\n",
      "        3,  9,  9,  0,  6,  0,  0,  0,  3,  5,  3,  5,  0,  7,  4, 11, 10,\n",
      "        3,  7,  3,  6, 11,  0,  0,  7,  0,  7,  0,  7,  4,  5, 10,  6,  3,\n",
      "        7,  9,  6,  9,  3,  6,  6,  0,  3, 10,  1,  6,  6,  1, 11,  4,  9,\n",
      "        8,  9,  1,  4,  4,  4,  4,  9, 10, 11,  7,  7,  7, 11,  3,  3,  3,\n",
      "        5,  5,  5,  7,  7,  3,  4,  9,  3,  3,  3,  6,  3,  6,  8,  7,  5,\n",
      "        5,  4,  5,  3,  5,  3,  3,  5,  6,  4,  7, 10,  7, 10,  9,  9,  5,\n",
      "        5,  1, 11,  8,  1,  8,  4,  9,  8,  5,  9,  4,  9,  4,  9,  4, 11,\n",
      "        3,  5,  7,  3,  5,  7, 11,  3,  5,  7,  3,  5,  7, 11,  6,  6, 11,\n",
      "        4,  5,  4,  3,  3]))\n"
     ]
    }
   ],
   "source": [
    "print(np.where(z>3))"
   ]
  },
  {
   "cell_type": "code",
   "execution_count": 28,
   "id": "eb81005e",
   "metadata": {},
   "outputs": [],
   "source": [
    "wine_quality_new= wine_quality[(z<3).all(axis=1)]"
   ]
  },
  {
   "cell_type": "code",
   "execution_count": 29,
   "id": "7ef4c5fa",
   "metadata": {},
   "outputs": [
    {
     "data": {
      "text/plain": [
       "(1451, 12)"
      ]
     },
     "execution_count": 29,
     "metadata": {},
     "output_type": "execute_result"
    }
   ],
   "source": [
    "wine_quality_new.shape"
   ]
  },
  {
   "cell_type": "code",
   "execution_count": 30,
   "id": "7b95f1c1",
   "metadata": {},
   "outputs": [
    {
     "data": {
      "text/plain": [
       "(1599, 12)"
      ]
     },
     "execution_count": 30,
     "metadata": {},
     "output_type": "execute_result"
    }
   ],
   "source": [
    "wine_quality.shape"
   ]
  },
  {
   "cell_type": "code",
   "execution_count": 31,
   "id": "959f90c8",
   "metadata": {},
   "outputs": [
    {
     "data": {
      "text/plain": [
       "9.255784865540964"
      ]
     },
     "execution_count": 31,
     "metadata": {},
     "output_type": "execute_result"
    }
   ],
   "source": [
    "#finding the percentage of data loss while removing the outlier\n",
    "dataloss= ((1599-1451)/1599)*100\n",
    "dataloss"
   ]
  },
  {
   "cell_type": "markdown",
   "id": "e2a20ada",
   "metadata": {},
   "source": [
    "As per the observation the percentage of data loss is 9.26% so we can not drop the outliers."
   ]
  },
  {
   "cell_type": "markdown",
   "id": "dbc958a5",
   "metadata": {},
   "source": [
    "# Removing  Skewness"
   ]
  },
  {
   "cell_type": "code",
   "execution_count": 32,
   "id": "0d410c6b",
   "metadata": {},
   "outputs": [],
   "source": [
    "# before rememoving the data we will split the data in input and output variable.\n",
    "x = wine_quality.iloc[:,0:-1]\n",
    "y = wine_quality.iloc[:,-1]\n"
   ]
  },
  {
   "cell_type": "code",
   "execution_count": 33,
   "id": "b29053bf",
   "metadata": {},
   "outputs": [
    {
     "data": {
      "text/plain": [
       "(1599, 11)"
      ]
     },
     "execution_count": 33,
     "metadata": {},
     "output_type": "execute_result"
    }
   ],
   "source": [
    "x.shape"
   ]
  },
  {
   "cell_type": "code",
   "execution_count": 34,
   "id": "bdbda0d1",
   "metadata": {},
   "outputs": [
    {
     "data": {
      "text/plain": [
       "(1599,)"
      ]
     },
     "execution_count": 34,
     "metadata": {},
     "output_type": "execute_result"
    }
   ],
   "source": [
    "y.shape"
   ]
  },
  {
   "cell_type": "code",
   "execution_count": 35,
   "id": "3b1d321d",
   "metadata": {},
   "outputs": [],
   "source": [
    "# calling power tranform for removing the skewness\n",
    "\n",
    "from sklearn.preprocessing import power_transform\n",
    "x_new= power_transform(x)\n",
    "df = pd.DataFrame(x_new, columns=x.columns)"
   ]
  },
  {
   "cell_type": "code",
   "execution_count": 36,
   "id": "0f306381",
   "metadata": {},
   "outputs": [
    {
     "data": {
      "text/plain": [
       "fixed acidity           0.002529\n",
       "volatile acidity        0.003099\n",
       "citric acid             0.017788\n",
       "residual sugar         -0.015715\n",
       "chlorides              -0.151304\n",
       "free sulfur dioxide    -0.009948\n",
       "total sulfur dioxide   -0.003752\n",
       "density                -0.005054\n",
       "pH                     -0.002822\n",
       "sulphates               0.009985\n",
       "alcohol                 0.112372\n",
       "dtype: float64"
      ]
     },
     "execution_count": 36,
     "metadata": {},
     "output_type": "execute_result"
    }
   ],
   "source": [
    "df.skew()"
   ]
  },
  {
   "cell_type": "markdown",
   "id": "98b0f11b",
   "metadata": {},
   "source": [
    "After using power transform the skewness is reduced  under the considerable threshold +/- 0.5"
   ]
  },
  {
   "cell_type": "code",
   "execution_count": 37,
   "id": "380ae735",
   "metadata": {},
   "outputs": [],
   "source": [
    "x=df"
   ]
  },
  {
   "cell_type": "code",
   "execution_count": 38,
   "id": "20b1306a",
   "metadata": {},
   "outputs": [
    {
     "data": {
      "text/html": [
       "<div>\n",
       "<style scoped>\n",
       "    .dataframe tbody tr th:only-of-type {\n",
       "        vertical-align: middle;\n",
       "    }\n",
       "\n",
       "    .dataframe tbody tr th {\n",
       "        vertical-align: top;\n",
       "    }\n",
       "\n",
       "    .dataframe thead th {\n",
       "        text-align: right;\n",
       "    }\n",
       "</style>\n",
       "<table border=\"1\" class=\"dataframe\">\n",
       "  <thead>\n",
       "    <tr style=\"text-align: right;\">\n",
       "      <th></th>\n",
       "      <th>fixed acidity</th>\n",
       "      <th>volatile acidity</th>\n",
       "      <th>citric acid</th>\n",
       "      <th>residual sugar</th>\n",
       "      <th>chlorides</th>\n",
       "      <th>free sulfur dioxide</th>\n",
       "      <th>total sulfur dioxide</th>\n",
       "      <th>density</th>\n",
       "      <th>pH</th>\n",
       "      <th>sulphates</th>\n",
       "      <th>alcohol</th>\n",
       "    </tr>\n",
       "  </thead>\n",
       "  <tbody>\n",
       "    <tr>\n",
       "      <th>0</th>\n",
       "      <td>-0.442666</td>\n",
       "      <td>0.995542</td>\n",
       "      <td>-1.531109</td>\n",
       "      <td>-0.597145</td>\n",
       "      <td>-0.172896</td>\n",
       "      <td>-0.268045</td>\n",
       "      <td>-0.124411</td>\n",
       "      <td>0.564442</td>\n",
       "      <td>1.275690</td>\n",
       "      <td>-0.581650</td>\n",
       "      <td>-1.075025</td>\n",
       "    </tr>\n",
       "    <tr>\n",
       "      <th>1</th>\n",
       "      <td>-0.161308</td>\n",
       "      <td>1.771299</td>\n",
       "      <td>-1.531109</td>\n",
       "      <td>0.556565</td>\n",
       "      <td>0.786204</td>\n",
       "      <td>0.993852</td>\n",
       "      <td>0.854954</td>\n",
       "      <td>0.036967</td>\n",
       "      <td>-0.709517</td>\n",
       "      <td>0.395140</td>\n",
       "      <td>-0.500860</td>\n",
       "    </tr>\n",
       "    <tr>\n",
       "      <th>2</th>\n",
       "      <td>-0.161308</td>\n",
       "      <td>1.269801</td>\n",
       "      <td>-1.255359</td>\n",
       "      <td>0.152372</td>\n",
       "      <td>0.560696</td>\n",
       "      <td>0.193450</td>\n",
       "      <td>0.540394</td>\n",
       "      <td>0.142851</td>\n",
       "      <td>-0.310054</td>\n",
       "      <td>0.183772</td>\n",
       "      <td>-0.500860</td>\n",
       "    </tr>\n",
       "    <tr>\n",
       "      <th>3</th>\n",
       "      <td>1.522582</td>\n",
       "      <td>-1.550050</td>\n",
       "      <td>1.398471</td>\n",
       "      <td>-0.597145</td>\n",
       "      <td>-0.226113</td>\n",
       "      <td>0.385115</td>\n",
       "      <td>0.693699</td>\n",
       "      <td>0.669354</td>\n",
       "      <td>-0.980154</td>\n",
       "      <td>-0.392318</td>\n",
       "      <td>-0.500860</td>\n",
       "    </tr>\n",
       "    <tr>\n",
       "      <th>4</th>\n",
       "      <td>-0.442666</td>\n",
       "      <td>0.995542</td>\n",
       "      <td>-1.531109</td>\n",
       "      <td>-0.597145</td>\n",
       "      <td>-0.172896</td>\n",
       "      <td>-0.268045</td>\n",
       "      <td>-0.124411</td>\n",
       "      <td>0.564442</td>\n",
       "      <td>1.275690</td>\n",
       "      <td>-0.581650</td>\n",
       "      <td>-1.075025</td>\n",
       "    </tr>\n",
       "  </tbody>\n",
       "</table>\n",
       "</div>"
      ],
      "text/plain": [
       "   fixed acidity  volatile acidity  citric acid  residual sugar  chlorides  \\\n",
       "0      -0.442666          0.995542    -1.531109       -0.597145  -0.172896   \n",
       "1      -0.161308          1.771299    -1.531109        0.556565   0.786204   \n",
       "2      -0.161308          1.269801    -1.255359        0.152372   0.560696   \n",
       "3       1.522582         -1.550050     1.398471       -0.597145  -0.226113   \n",
       "4      -0.442666          0.995542    -1.531109       -0.597145  -0.172896   \n",
       "\n",
       "   free sulfur dioxide  total sulfur dioxide   density        pH  sulphates  \\\n",
       "0            -0.268045             -0.124411  0.564442  1.275690  -0.581650   \n",
       "1             0.993852              0.854954  0.036967 -0.709517   0.395140   \n",
       "2             0.193450              0.540394  0.142851 -0.310054   0.183772   \n",
       "3             0.385115              0.693699  0.669354 -0.980154  -0.392318   \n",
       "4            -0.268045             -0.124411  0.564442  1.275690  -0.581650   \n",
       "\n",
       "    alcohol  \n",
       "0 -1.075025  \n",
       "1 -0.500860  \n",
       "2 -0.500860  \n",
       "3 -0.500860  \n",
       "4 -1.075025  "
      ]
     },
     "execution_count": 38,
     "metadata": {},
     "output_type": "execute_result"
    }
   ],
   "source": [
    "x.head()"
   ]
  },
  {
   "cell_type": "code",
   "execution_count": 39,
   "id": "c13cf994",
   "metadata": {},
   "outputs": [
    {
     "data": {
      "text/plain": [
       "1405    7\n",
       "117     6\n",
       "730     5\n",
       "1112    6\n",
       "743     5\n",
       "Name: quality, dtype: int64"
      ]
     },
     "execution_count": 39,
     "metadata": {},
     "output_type": "execute_result"
    }
   ],
   "source": [
    "y.sample(5)"
   ]
  },
  {
   "cell_type": "markdown",
   "id": "6711435c",
   "metadata": {},
   "source": [
    "# Apply for standard scaller"
   ]
  },
  {
   "cell_type": "code",
   "execution_count": 40,
   "id": "1f4f9770",
   "metadata": {},
   "outputs": [
    {
     "data": {
      "text/plain": [
       "array([[-4.42665887e-01,  9.95541630e-01, -1.53110932e+00, ...,\n",
       "         1.27568966e+00, -5.81649810e-01, -1.07502541e+00],\n",
       "       [-1.61307687e-01,  1.77129874e+00, -1.53110932e+00, ...,\n",
       "        -7.09517441e-01,  3.95139954e-01, -5.00859609e-01],\n",
       "       [-1.61307687e-01,  1.26980139e+00, -1.25535866e+00, ...,\n",
       "        -3.10054087e-01,  1.83771552e-01, -5.00859609e-01],\n",
       "       ...,\n",
       "       [-1.36436736e+00,  3.87059824e-04, -6.83293826e-01, ...,\n",
       "         7.18868609e-01,  8.20841495e-01,  7.34557526e-01],\n",
       "       [-1.76745837e+00,  7.28552768e-01, -7.43826364e-01, ...,\n",
       "         1.63859531e+00,  5.88343819e-01, -1.87998601e-02],\n",
       "       [-1.66263981e+00, -1.32045850e+00,  1.03107021e+00, ...,\n",
       "         5.29831606e-01,  2.56369273e-01,  7.34557526e-01]])"
      ]
     },
     "execution_count": 40,
     "metadata": {},
     "output_type": "execute_result"
    }
   ],
   "source": [
    "# calling standard scaller\n",
    "from sklearn.preprocessing import StandardScaler\n",
    "sc= StandardScaler()\n",
    "x= sc.fit_transform(x)\n",
    "x"
   ]
  },
  {
   "cell_type": "markdown",
   "id": "d537ae18",
   "metadata": {},
   "source": [
    "# As per the careful observation there are number of output but that can harm the accuracy and prediction so we will convert them into 2 output."
   ]
  },
  {
   "cell_type": "code",
   "execution_count": 48,
   "id": "4a71ad08",
   "metadata": {},
   "outputs": [
    {
     "data": {
      "text/plain": [
       "5    681\n",
       "6    638\n",
       "7    199\n",
       "4     53\n",
       "8     18\n",
       "3     10\n",
       "Name: quality, dtype: int64"
      ]
     },
     "execution_count": 48,
     "metadata": {},
     "output_type": "execute_result"
    }
   ],
   "source": [
    "y.value_counts()"
   ]
  },
  {
   "cell_type": "markdown",
   "id": "f939a00c",
   "metadata": {},
   "source": [
    "we will convert the labels into 2 output. \n",
    "value less than or equal to 7 will be considered as 0. and rest of the value which are greater than 7 is considered as 1."
   ]
  },
  {
   "cell_type": "code",
   "execution_count": 58,
   "id": "fa725cb4",
   "metadata": {},
   "outputs": [],
   "source": [
    "y  =y.apply(lambda i: 1 if i>6.5 else 0)"
   ]
  },
  {
   "cell_type": "code",
   "execution_count": 59,
   "id": "d37a73fc",
   "metadata": {},
   "outputs": [
    {
     "data": {
      "text/plain": [
       "0    1382\n",
       "1     217\n",
       "Name: quality, dtype: int64"
      ]
     },
     "execution_count": 59,
     "metadata": {},
     "output_type": "execute_result"
    }
   ],
   "source": [
    "y.value_counts()"
   ]
  },
  {
   "cell_type": "code",
   "execution_count": 60,
   "id": "e165eaa0",
   "metadata": {},
   "outputs": [
    {
     "name": "stdout",
     "output_type": "stream",
     "text": [
      "(1599, 11)\n"
     ]
    }
   ],
   "source": [
    "print(x.shape)\n"
   ]
  },
  {
   "cell_type": "code",
   "execution_count": 61,
   "id": "a59ebe71",
   "metadata": {},
   "outputs": [
    {
     "name": "stdout",
     "output_type": "stream",
     "text": [
      "(1599,)\n"
     ]
    }
   ],
   "source": [
    "print(y.shape)"
   ]
  },
  {
   "cell_type": "code",
   "execution_count": 62,
   "id": "42eb2e23",
   "metadata": {},
   "outputs": [
    {
     "data": {
      "text/plain": [
       "<AxesSubplot:xlabel='quality', ylabel='Count'>"
      ]
     },
     "execution_count": 62,
     "metadata": {},
     "output_type": "execute_result"
    },
    {
     "data": {
      "image/png": "[encoded data removed]",
      "text/plain": [
       "<Figure size 432x288 with 1 Axes>"
      ]
     },
     "metadata": {
      "needs_background": "light"
     },
     "output_type": "display_data"
    }
   ],
   "source": [
    "sns.histplot(data=y)"
   ]
  },
  {
   "cell_type": "markdown",
   "id": "dae9c390",
   "metadata": {},
   "source": [
    "As per the observation the output 0 is comparetively higher than output 1 so it is imbalanced dataset so we will make this output as balance"
   ]
  },
  {
   "cell_type": "code",
   "execution_count": 63,
   "id": "489fca19",
   "metadata": {},
   "outputs": [],
   "source": [
    "from imblearn.over_sampling import SMOTE\n",
    "sm=SMOTE()\n",
    "x,y= sm.fit_resample(x,y)\n"
   ]
  },
  {
   "cell_type": "code",
   "execution_count": 64,
   "id": "8f5381fd",
   "metadata": {},
   "outputs": [
    {
     "data": {
      "text/plain": [
       "0    1382\n",
       "1    1382\n",
       "Name: quality, dtype: int64"
      ]
     },
     "execution_count": 64,
     "metadata": {},
     "output_type": "execute_result"
    }
   ],
   "source": [
    "y.value_counts()"
   ]
  },
  {
   "cell_type": "code",
   "execution_count": 65,
   "id": "fd315a4a",
   "metadata": {},
   "outputs": [
    {
     "data": {
      "text/plain": [
       "<AxesSubplot:xlabel='quality', ylabel='count'>"
      ]
     },
     "execution_count": 65,
     "metadata": {},
     "output_type": "execute_result"
    },
    {
     "data": {
      "image/png": "[encoded data removed]",
      "text/plain": [
       "<Figure size 432x288 with 1 Axes>"
      ]
     },
     "metadata": {
      "needs_background": "light"
     },
     "output_type": "display_data"
    }
   ],
   "source": [
    "sns.countplot(y)"
   ]
  },
  {
   "cell_type": "markdown",
   "id": "47c9c1e4",
   "metadata": {},
   "source": [
    "After SMOTE all the quality output became equal so now it is balanced and bigger."
   ]
  },
  {
   "cell_type": "code",
   "execution_count": 68,
   "id": "5769136a",
   "metadata": {},
   "outputs": [
    {
     "data": {
      "text/plain": [
       "(2764, 11)"
      ]
     },
     "execution_count": 68,
     "metadata": {},
     "output_type": "execute_result"
    }
   ],
   "source": [
    "x.shape"
   ]
  },
  {
   "cell_type": "code",
   "execution_count": 89,
   "id": "7737444b",
   "metadata": {},
   "outputs": [
    {
     "data": {
      "text/plain": [
       "(2764,)"
      ]
     },
     "execution_count": 89,
     "metadata": {},
     "output_type": "execute_result"
    }
   ],
   "source": [
    "y.shape"
   ]
  },
  {
   "cell_type": "markdown",
   "id": "b84c4bef",
   "metadata": {},
   "source": [
    "# Split and Model selection"
   ]
  },
  {
   "cell_type": "code",
   "execution_count": 90,
   "id": "02c0ddc2",
   "metadata": {},
   "outputs": [],
   "source": [
    "from sklearn.linear_model import LogisticRegression\n",
    "from sklearn.model_selection import train_test_split\n",
    "from sklearn.metrics import accuracy_score,confusion_matrix,classification_report"
   ]
  },
  {
   "cell_type": "code",
   "execution_count": 82,
   "id": "51e20660",
   "metadata": {},
   "outputs": [
    {
     "name": "stdout",
     "output_type": "stream",
     "text": [
      "best accuarcy is: 0.8770343580470162 at random state for  473\n"
     ]
    }
   ],
   "source": [
    "# finding the optimum random state\n",
    "\n",
    "Accuracy=0\n",
    "\n",
    "random_state=0\n",
    "\n",
    "for i in range(0,500):\n",
    "    train_x,test_x,train_y,test_y=train_test_split(x,y, test_size=0.20 ,random_state=i)\n",
    "    lr=LogisticRegression()\n",
    "    lr.fit(train_x,train_y)\n",
    "    predlr= lr.predict(test_x)\n",
    "    acc=accuracy_score(test_y,predlr)\n",
    "    \n",
    "    if acc>Accuracy:\n",
    "        Accuracy=acc\n",
    "        random_state=i\n",
    "        \n",
    "print('best accuarcy is:' ,Accuracy,'at random state for ' ,random_state)\n",
    "    "
   ]
  },
  {
   "cell_type": "markdown",
   "id": "aa3d1cde",
   "metadata": {},
   "source": [
    "# The random state will be 473 for the highest accuracy."
   ]
  },
  {
   "cell_type": "code",
   "execution_count": 91,
   "id": "dbdb31cb",
   "metadata": {},
   "outputs": [],
   "source": [
    "train_x,test_x,train_y,test_y=train_test_split(x,y,test_size=0.20 ,random_state=473)"
   ]
  },
  {
   "cell_type": "code",
   "execution_count": 92,
   "id": "fefa51f1",
   "metadata": {},
   "outputs": [
    {
     "data": {
      "text/plain": [
       "(2211, 11)"
      ]
     },
     "execution_count": 92,
     "metadata": {},
     "output_type": "execute_result"
    }
   ],
   "source": [
    "train_x.shape"
   ]
  },
  {
   "cell_type": "code",
   "execution_count": 93,
   "id": "2d469dc8",
   "metadata": {},
   "outputs": [
    {
     "data": {
      "text/plain": [
       "(2211,)"
      ]
     },
     "execution_count": 93,
     "metadata": {},
     "output_type": "execute_result"
    }
   ],
   "source": [
    "train_y.shape"
   ]
  },
  {
   "cell_type": "raw",
   "id": "0bb57caf",
   "metadata": {},
   "source": []
  },
  {
   "cell_type": "markdown",
   "id": "2427efd7",
   "metadata": {},
   "source": [
    "# Finding out the best model"
   ]
  },
  {
   "cell_type": "code",
   "execution_count": 107,
   "id": "ab368055",
   "metadata": {},
   "outputs": [
    {
     "name": "stdout",
     "output_type": "stream",
     "text": [
      "the accuracy of  LogisticRegression() is 0.8770343580470162\n",
      "the classification report of LogisticRegression() is               precision    recall  f1-score   support\n",
      "\n",
      "           0       0.91      0.82      0.86       259\n",
      "           1       0.86      0.93      0.89       294\n",
      "\n",
      "    accuracy                           0.88       553\n",
      "   macro avg       0.88      0.87      0.88       553\n",
      "weighted avg       0.88      0.88      0.88       553\n",
      "\n",
      "the confusion metrix of  LogisticRegression() is [[213  46]\n",
      " [ 22 272]]\n",
      "\n",
      "\n",
      "the accuracy of  DecisionTreeClassifier() is 0.9095840867992767\n",
      "the classification report of DecisionTreeClassifier() is               precision    recall  f1-score   support\n",
      "\n",
      "           0       0.90      0.91      0.90       259\n",
      "           1       0.92      0.91      0.91       294\n",
      "\n",
      "    accuracy                           0.91       553\n",
      "   macro avg       0.91      0.91      0.91       553\n",
      "weighted avg       0.91      0.91      0.91       553\n",
      "\n",
      "the confusion metrix of  DecisionTreeClassifier() is [[235  24]\n",
      " [ 26 268]]\n",
      "\n",
      "\n",
      "the accuracy of  KNeighborsClassifier() is 0.9041591320072333\n",
      "the classification report of KNeighborsClassifier() is               precision    recall  f1-score   support\n",
      "\n",
      "           0       0.99      0.80      0.89       259\n",
      "           1       0.85      0.99      0.92       294\n",
      "\n",
      "    accuracy                           0.90       553\n",
      "   macro avg       0.92      0.90      0.90       553\n",
      "weighted avg       0.92      0.90      0.90       553\n",
      "\n",
      "the confusion metrix of  KNeighborsClassifier() is [[208  51]\n",
      " [  2 292]]\n",
      "\n",
      "\n",
      "the accuracy of  SVC() is 0.9240506329113924\n",
      "the classification report of SVC() is               precision    recall  f1-score   support\n",
      "\n",
      "           0       0.95      0.88      0.92       259\n",
      "           1       0.90      0.96      0.93       294\n",
      "\n",
      "    accuracy                           0.92       553\n",
      "   macro avg       0.93      0.92      0.92       553\n",
      "weighted avg       0.93      0.92      0.92       553\n",
      "\n",
      "the confusion metrix of  SVC() is [[228  31]\n",
      " [ 11 283]]\n",
      "\n",
      "\n",
      "the accuracy of  RandomForestClassifier() is 0.9710669077757685\n",
      "the classification report of RandomForestClassifier() is               precision    recall  f1-score   support\n",
      "\n",
      "           0       0.98      0.95      0.97       259\n",
      "           1       0.96      0.99      0.97       294\n",
      "\n",
      "    accuracy                           0.97       553\n",
      "   macro avg       0.97      0.97      0.97       553\n",
      "weighted avg       0.97      0.97      0.97       553\n",
      "\n",
      "the confusion metrix of  RandomForestClassifier() is [[247  12]\n",
      " [  4 290]]\n",
      "\n",
      "\n"
     ]
    }
   ],
   "source": [
    "from sklearn.linear_model import LogisticRegression\n",
    "from sklearn.tree import DecisionTreeClassifier\n",
    "from sklearn.svm import SVC\n",
    "from sklearn.neighbors import KNeighborsClassifier\n",
    "from sklearn.ensemble import RandomForestClassifier\n",
    "\n",
    "lr= LogisticRegression()\n",
    "dt= DecisionTreeClassifier()\n",
    "knn= KNeighborsClassifier()\n",
    "svc= SVC()\n",
    "rf= RandomForestClassifier()\n",
    "\n",
    "list= [lr,dt,knn,svc,rf]\n",
    "\n",
    "for i in list:\n",
    "    i.fit(train_x,train_y)\n",
    "    pred_i=i.predict(test_x)\n",
    "    print('the accuracy of ' ,i ,'is', accuracy_score(test_y,pred_i))\n",
    "    print('the classification report of' , i ,'is',classification_report(test_y,pred_i))\n",
    "    print('the confusion metrix of ', i,'is',confusion_matrix(test_y,pred_i) )\n",
    "    print('\\n')"
   ]
  },
  {
   "cell_type": "markdown",
   "id": "abed0f07",
   "metadata": {},
   "source": [
    "# Among all the models the highest accuracy score is provided by Random forest with 96.7%."
   ]
  },
  {
   "cell_type": "markdown",
   "id": "1812c201",
   "metadata": {},
   "source": [
    "# ~ Checking the Crossvalidation score"
   ]
  },
  {
   "cell_type": "code",
   "execution_count": 108,
   "id": "d7622199",
   "metadata": {
    "scrolled": true
   },
   "outputs": [
    {
     "name": "stdout",
     "output_type": "stream",
     "text": [
      "cross validation score of  LogisticRegression() is: 0.920764866210656\n",
      "\n",
      "\n",
      "cross validation score of  DecisionTreeClassifier() is: 0.9153412217941662\n",
      "\n",
      "\n",
      "cross validation score of  KNeighborsClassifier() is: 0.9128036795345545\n",
      "\n",
      "\n",
      "cross validation score of  SVC() is: 0.916064549099772\n",
      "\n",
      "\n",
      "cross validation score of  RandomForestClassifier() is: 0.9149749718269256\n",
      "\n",
      "\n"
     ]
    }
   ],
   "source": [
    "from sklearn.model_selection import cross_val_score\n",
    "lr= LogisticRegression()\n",
    "dt= DecisionTreeClassifier()\n",
    "knn= KNeighborsClassifier()\n",
    "svc= SVC()\n",
    "rf= RandomForestClassifier()\n",
    "\n",
    "list= [lr,dt,knn,svc,rf] \n",
    "for m in list:\n",
    "    cv_score= cross_val_score(i,x,y,cv=5)\n",
    "    print('cross validation score of ', m,'is:', cv_score.mean())\n",
    "    print('\\n')\n",
    "    "
   ]
  },
  {
   "cell_type": "markdown",
   "id": "5a592746",
   "metadata": {},
   "source": [
    "# In this observation the cross_val score of Logistic regression has the highest CV score amoung other models but the accuracy score is lowest among all the models and by considering the accuracy score and least diiference between accuracy score and CV score we choose RandomForestClassifier as the optimum model with accuracy score of 97%."
   ]
  },
  {
   "cell_type": "markdown",
   "id": "6d6964f5",
   "metadata": {},
   "source": [
    "# Hyper parameter tunning"
   ]
  },
  {
   "cell_type": "code",
   "execution_count": 118,
   "id": "05ba6033",
   "metadata": {},
   "outputs": [],
   "source": [
    "#calling grid search CV\n",
    "from sklearn.model_selection import GridSearchCV\n",
    "\n",
    "#creating a dictionary to find the optimum critirian and depth\n",
    "parameter = {'max_depth':np.arange(2,10),'criterion':['gini','entropy']}\n",
    "rf = RandomForestClassifier()\n"
   ]
  },
  {
   "cell_type": "code",
   "execution_count": 119,
   "id": "523b156a",
   "metadata": {},
   "outputs": [
    {
     "data": {
      "text/plain": [
       "{'criterion': 'gini', 'max_depth': 9}"
      ]
     },
     "execution_count": 119,
     "metadata": {},
     "output_type": "execute_result"
    }
   ],
   "source": [
    "Grid_search_cv = GridSearchCV(estimator=rf,param_grid=parameter, cv=5)\n",
    "Grid_search_cv.fit(train_x,train_y)\n",
    "Grid_search_cv.best_params_"
   ]
  },
  {
   "cell_type": "code",
   "execution_count": 120,
   "id": "ca8b1966",
   "metadata": {},
   "outputs": [
    {
     "name": "stdout",
     "output_type": "stream",
     "text": [
      "0.9547920433996383\n"
     ]
    }
   ],
   "source": [
    "Grid_search_cv_pred= Grid_search_cv.predict(test_x)\n",
    "print(accuracy_score(test_y,Grid_search_cv_pred))"
   ]
  },
  {
   "cell_type": "markdown",
   "id": "0f1ed36b",
   "metadata": {},
   "source": [
    "# Final accuracy score is 95%."
   ]
  },
  {
   "cell_type": "code",
   "execution_count": 121,
   "id": "a120bf9f",
   "metadata": {},
   "outputs": [
    {
     "data": {
      "image/png": "[encoded data removed]",
      "text/plain": [
       "<Figure size 432x288 with 1 Axes>"
      ]
     },
     "metadata": {
      "needs_background": "light"
     },
     "output_type": "display_data"
    }
   ],
   "source": [
    "from sklearn.metrics import plot_roc_curve\n",
    "plot_roc_curve(Grid_search_cv.best_estimator_,test_x,test_y)\n",
    "plt.title('ROC_AUC_curve')\n",
    "plt.show()"
   ]
  },
  {
   "cell_type": "markdown",
   "id": "40688f39",
   "metadata": {},
   "source": [
    "# AUC score is 99%."
   ]
  },
  {
   "cell_type": "code",
   "execution_count": 122,
   "id": "bd1d3143",
   "metadata": {},
   "outputs": [
    {
     "data": {
      "text/plain": [
       "['Red_wine_quality.pk1']"
      ]
     },
     "execution_count": 122,
     "metadata": {},
     "output_type": "execute_result"
    }
   ],
   "source": [
    "import joblib\n",
    "joblib.dump(Grid_search_cv.best_estimator_,'Red_wine_quality.pk1')"
   ]
  },
  {
   "cell_type": "code",
   "execution_count": null,
   "id": "3868b361",
   "metadata": {},
   "outputs": [],
   "source": [
    " "
   ]
  }
 ],
 "metadata": {
  "kernelspec": {
   "display_name": "Python 3",
   "language": "python",
   "name": "python3"
  },
  "language_info": {
   "codemirror_mode": {
    "name": "ipython",
    "version": 3
   },
   "file_extension": ".py",
   "mimetype": "text/x-python",
   "name": "python",
   "nbconvert_exporter": "python",
   "pygments_lexer": "ipython3",
   "version": "3.8.8"
  }
 },
 "nbformat": 4,
 "nbformat_minor": 5
}
